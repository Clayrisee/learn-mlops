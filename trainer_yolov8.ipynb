{
 "cells": [
  {
   "cell_type": "markdown",
   "id": "0ca6e527-a101-41d6-9d5c-98cb1b2a46c1",
   "metadata": {},
   "source": [
    "## Clone and Pull Dataset"
   ]
  },
  {
   "cell_type": "code",
   "execution_count": 7,
   "id": "54f0b174-2d6d-4a4d-bcdc-cf0a20279afc",
   "metadata": {},
   "outputs": [],
   "source": [
    "# TODO: Add Git clone dataset repository and pull"
   ]
  },
  {
   "cell_type": "markdown",
   "id": "b1062d3d-0316-4435-b582-67fb6af33c1d",
   "metadata": {},
   "source": [
    "## Define Dataset Path"
   ]
  },
  {
   "cell_type": "code",
   "execution_count": null,
   "id": "85ea5def-20cc-450a-957f-462c7ee7738d",
   "metadata": {},
   "outputs": [],
   "source": [
    "DATASET_PATH = \"\""
   ]
  },
  {
   "cell_type": "markdown",
   "id": "85cdfae3-c8a4-4963-9caa-40e5c02b0c03",
   "metadata": {},
   "source": [
    "## Load Model"
   ]
  },
  {
   "cell_type": "code",
   "execution_count": 2,
   "id": "2cb8e554-e9b2-4af5-87a9-510e86824784",
   "metadata": {},
   "outputs": [
    {
     "name": "stderr",
     "output_type": "stream",
     "text": [
      "Downloading https://github.com/ultralytics/assets/releases/download/v0.0.0/yolov8m.pt to yolov8m.pt...\n",
      "100%|█████████████████████████████████████████████████████████████████████████████████████████████████████████████████████| 49.7M/49.7M [00:30<00:00, 1.72MB/s]\n"
     ]
    }
   ],
   "source": [
    "from ultralytics import YOLO\n",
    "model = YOLO('yolov8m.pt')"
   ]
  },
  {
   "cell_type": "markdown",
   "id": "338bb8db-dd53-4dec-983e-e3cb06b2d842",
   "metadata": {},
   "source": [
    "## Define and Training Model"
   ]
  },
  {
   "cell_type": "code",
   "execution_count": 6,
   "id": "c62f0310-88bd-4a46-b17f-ec2515c34435",
   "metadata": {},
   "outputs": [
    {
     "name": "stderr",
     "output_type": "stream",
     "text": [
      "\u001b[34m\u001b[1mwandb\u001b[0m: \u001b[33mWARNING\u001b[0m The wandb callback is currently in beta and is subject to change based on updates to `ultralytics yolov8`.\n",
      "\u001b[34m\u001b[1mwandb\u001b[0m: \u001b[33mWARNING\u001b[0m         The callback is tested and supported for ultralytics v8.0.43 and above.\n",
      "\u001b[34m\u001b[1mwandb\u001b[0m: \u001b[33mWARNING\u001b[0m         Please report any issues to https://github.com/wandb/wandb/issues with the tag `yolov8`.\n",
      "\u001b[34m\u001b[1mwandb\u001b[0m: \u001b[33mWARNING\u001b[0m         \n"
     ]
    },
    {
     "data": {
      "text/plain": [
       "<ultralytics.yolo.engine.model.YOLO at 0x7f7500140760>"
      ]
     },
     "execution_count": 6,
     "metadata": {},
     "output_type": "execute_result"
    }
   ],
   "source": [
    "from wandb.integration.yolov8 import add_callbacks as add_wandb_callbacks\n",
    "add_wandb_callbacks(model, project = \"vehicle-yolov8\")\n",
    "results = model.train(data = DATASET_PATH,epochs = 20, device = 0, save_period = 10)"
   ]
  },
  {
   "cell_type": "markdown",
   "id": "e31c8396-d3ed-4da6-8571-bff66a63308d",
   "metadata": {},
   "source": [
    "## Upload Artifact and Versioning"
   ]
  },
  {
   "cell_type": "code",
   "execution_count": 8,
   "id": "406e1a3c-fb5f-444b-9bc4-f6ac3b623f7f",
   "metadata": {},
   "outputs": [
    {
     "name": "stdout",
     "output_type": "stream",
     "text": [
      "/workspaces/learn-mlops/notebooks\n"
     ]
    }
   ],
   "source": []
  },
  {
   "cell_type": "code",
   "execution_count": null,
   "id": "4743d273-4306-4827-ae74-c5295e96b482",
   "metadata": {},
   "outputs": [],
   "source": []
  }
 ],
 "metadata": {
  "kernelspec": {
   "display_name": "Python 3 (ipykernel)",
   "language": "python",
   "name": "python3"
  },
  "language_info": {
   "codemirror_mode": {
    "name": "ipython",
    "version": 3
   },
   "file_extension": ".py",
   "mimetype": "text/x-python",
   "name": "python",
   "nbconvert_exporter": "python",
   "pygments_lexer": "ipython3",
   "version": "3.8.10"
  }
 },
 "nbformat": 4,
 "nbformat_minor": 5
}
