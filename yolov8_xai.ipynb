{
 "cells": [
  {
   "cell_type": "code",
   "execution_count": 1,
   "id": "48cf8919-8767-4a62-b2e4-aa92f7842295",
   "metadata": {},
   "outputs": [
    {
     "name": "stdout",
     "output_type": "stream",
     "text": [
      "Cloning into 'YOLO-V8-CAM'...\n",
      "remote: Enumerating objects: 55, done.\u001b[K\n",
      "remote: Counting objects: 100% (55/55), done.\u001b[K\n",
      "remote: Compressing objects: 100% (51/51), done.\u001b[K\n",
      "remote: Total 55 (delta 13), reused 37 (delta 3), pack-reused 0\u001b[K\n",
      "Unpacking objects: 100% (55/55), 16.86 MiB | 1.31 MiB/s, done.\n",
      "Updating files: 100% (25/25), done.\n"
     ]
    }
   ],
   "source": [
    "!git clone https://github.com/rigvedrs/YOLO-V8-CAM.git"
   ]
  },
  {
   "cell_type": "code",
   "execution_count": 3,
   "id": "9c839d81-b212-4c0b-9928-d0cf4d39c06c",
   "metadata": {},
   "outputs": [],
   "source": [
    "!mv YOLO-V8-CAM/yolo_cam ."
   ]
  },
  {
   "cell_type": "code",
   "execution_count": 5,
   "id": "735b0c8d-3d7b-4a98-ae21-91b78d02679a",
   "metadata": {},
   "outputs": [
    {
     "name": "stdout",
     "output_type": "stream",
     "text": [
      "Collecting ttach\n",
      "  Downloading ttach-0.0.3-py3-none-any.whl (9.8 kB)\n",
      "Installing collected packages: ttach\n",
      "Successfully installed ttach-0.0.3\n",
      "\u001b[33mWARNING: Running pip as the 'root' user can result in broken permissions and conflicting behaviour with the system package manager. It is recommended to use a virtual environment instead: https://pip.pypa.io/warnings/venv\u001b[0m\u001b[33m\n",
      "\u001b[0m"
     ]
    }
   ],
   "source": [
    "!pip install ttach"
   ]
  },
  {
   "cell_type": "markdown",
   "id": "a80ef722-4508-4734-b0e5-a3662baf2d11",
   "metadata": {},
   "source": [
    "## Load Model"
   ]
  },
  {
   "cell_type": "code",
   "execution_count": 7,
   "id": "e5a18810-dbc8-4e78-9527-43a7144a52f8",
   "metadata": {},
   "outputs": [],
   "source": [
    "from ultralytics import YOLO\n",
    "MODEL_PATH = \"yolov8m.pt\"\n",
    "model = YOLO(MODEL_PATH)"
   ]
  },
  {
   "cell_type": "markdown",
   "id": "a5fd2555-5a55-49b3-81da-e2a5a3209cdc",
   "metadata": {},
   "source": [
    "## Load Target Layers"
   ]
  },
  {
   "cell_type": "code",
   "execution_count": 8,
   "id": "ae23006d-dfba-4e7f-9105-389a15d70323",
   "metadata": {},
   "outputs": [],
   "source": [
    "from yolo_cam.eigen_cam import EigenCAM\n",
    "from yolo_cam.utils.image import show_cam_on_image, scale_cam_image\n",
    "target_layers =[model.model.model[-4]]"
   ]
  },
  {
   "cell_type": "code",
   "execution_count": 12,
   "id": "7714444c-d3ca-4823-b1b4-8ba9ac294b9e",
   "metadata": {},
   "outputs": [
    {
     "data": {
      "text/plain": [
       "[Conv(\n",
       "   (conv): Conv2d(384, 384, kernel_size=(3, 3), stride=(2, 2), padding=(1, 1), bias=False)\n",
       "   (bn): BatchNorm2d(384, eps=0.001, momentum=0.03, affine=True, track_running_stats=True)\n",
       "   (act): SiLU(inplace=True)\n",
       " )]"
      ]
     },
     "execution_count": 12,
     "metadata": {},
     "output_type": "execute_result"
    }
   ],
   "source": [
    "target_layers"
   ]
  },
  {
   "cell_type": "markdown",
   "id": "c0d3e65b-c134-4a51-9e3f-970cf30442df",
   "metadata": {},
   "source": [
    "## Predict XAI"
   ]
  },
  {
   "cell_type": "code",
   "execution_count": null,
   "id": "a6f6c3ee-3c8b-4be6-8bb1-619cbb1bfc65",
   "metadata": {},
   "outputs": [],
   "source": [
    "cam = EigenCAM(model, target_layers)\n",
    "grayscale_cam = cam(rgb_img)[0, :, :]\n",
    "cam_image = show_cam_on_image(img, grayscale_cam, use_rgb=True)\n",
    "plt.imshow(cam_image)\n",
    "plt.show()"
   ]
  },
  {
   "cell_type": "code",
   "execution_count": null,
   "id": "75466266-2376-4e5f-8a62-83b49b7b8133",
   "metadata": {},
   "outputs": [],
   "source": [
    "img = cv2.imread('images/puppies.jpg')\n",
    "img = cv2.resize(img, (640, 640))\n",
    "rgb_img = img.copy()\n",
    "img = np.float32(img) / 255"
   ]
  },
  {
   "cell_type": "code",
   "execution_count": null,
   "id": "b83710a4-31f9-48db-acd9-1cf609fcc8c5",
   "metadata": {},
   "outputs": [],
   "source": [
    "cam = EigenCAM(model, target_layers,task='od')\n",
    "grayscale_cam = cam(rgb_img)[0, :, :]\n",
    "cam_image = show_cam_on_image(img, grayscale_cam, use_rgb=True)\n",
    "plt.imshow(cam_image)\n",
    "plt.show()"
   ]
  },
  {
   "cell_type": "code",
   "execution_count": null,
   "id": "1dc7cec0-6fc1-41c2-ab0e-fad6b3f99e2e",
   "metadata": {},
   "outputs": [],
   "source": [
    "im = cv2.cvtColor(rgb_img, cv2.COLOR_RGB2BGR)\n",
    "Image.fromarray(np.hstack((im, cam_image)))"
   ]
  }
 ],
 "metadata": {
  "kernelspec": {
   "display_name": "Python 3 (ipykernel)",
   "language": "python",
   "name": "python3"
  },
  "language_info": {
   "codemirror_mode": {
    "name": "ipython",
    "version": 3
   },
   "file_extension": ".py",
   "mimetype": "text/x-python",
   "name": "python",
   "nbconvert_exporter": "python",
   "pygments_lexer": "ipython3",
   "version": "3.8.10"
  }
 },
 "nbformat": 4,
 "nbformat_minor": 5
}
