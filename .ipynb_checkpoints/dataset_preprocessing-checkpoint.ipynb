{
 "cells": [
  {
   "cell_type": "markdown",
   "id": "98d2cc02",
   "metadata": {},
   "source": [
    "## Read Config"
   ]
  },
  {
   "cell_type": "code",
   "execution_count": 1,
   "id": "93677f07",
   "metadata": {
    "tags": []
   },
   "outputs": [],
   "source": [
    "import os\n",
    "# Automatically read from your env variables\n",
    "FIFTYONE_PORT = int(os.getenv(\"FIFTYONE_PORT\", 5151))\n",
    "FIFTYONE_URI = os.getenv(\"FIFTYONE_URI\", \"0.0.0.0\")"
   ]
  },
  {
   "cell_type": "markdown",
   "id": "e11f7e3d",
   "metadata": {},
   "source": [
    "## Utils Function"
   ]
  },
  {
   "cell_type": "code",
   "execution_count": 2,
   "id": "61829652-8f0c-4e1f-a126-2636897c64c1",
   "metadata": {
    "tags": []
   },
   "outputs": [
    {
     "name": "stdout",
     "output_type": "stream",
     "text": [
      "Migrating database to v0.21.0\n"
     ]
    }
   ],
   "source": [
    "import fiftyone as fo\n",
    "\n",
    "def ext(path):\n",
    "    _, file_ext = os.path.splitext(path)\n",
    "    return file_ext\n",
    "\n",
    "def read_yolo_label(path):\n",
    "    with open(path, \"r\") as f:\n",
    "        data = f.read().splitlines()\n",
    "    \n",
    "    bboxes = []\n",
    "    labels = []\n",
    "    for obj in data:\n",
    "        obj = obj.split()\n",
    "        \n",
    "        label = int(obj[0])\n",
    "        cx = float(obj[1])\n",
    "        cy = float(obj[2])\n",
    "        w = float(obj[3])\n",
    "        h = float(obj[4])\n",
    "        \n",
    "        x = cx - w/2\n",
    "        y = cy - h/2\n",
    "        \n",
    "        bbox = [x, y, w, h]\n",
    "        bboxes.append(bbox)\n",
    "        labels.append(label)\n",
    "    \n",
    "    return bboxes, labels\n",
    "\n",
    "def read_yolo_pred(path, xyxy=False):\n",
    "    with open(path, \"r\") as f:\n",
    "        data = f.read().splitlines()\n",
    "    \n",
    "    bboxes = []\n",
    "    labels = []\n",
    "    scores = []\n",
    "    for obj in data:\n",
    "        obj = obj.split()\n",
    "        \n",
    "        label = int(obj[0])\n",
    "        try:\n",
    "            score = float(obj[5])\n",
    "        except:\n",
    "            score = 1.0\n",
    "        \n",
    "        if xyxy:\n",
    "            x1 = int(obj[1])\n",
    "            y1 = int(obj[2])\n",
    "            x2 = int(obj[3])\n",
    "            y2 = int(obj[4])\n",
    "            \n",
    "            x = x1\n",
    "            y = y1\n",
    "            w = x2 - x1\n",
    "            h = y2 - y1\n",
    "        else:\n",
    "            cx = float(obj[1])\n",
    "            cy = float(obj[2])\n",
    "            w = float(obj[3])\n",
    "            h = float(obj[4])\n",
    "\n",
    "            x = cx - w/2\n",
    "            y = cy - h/2\n",
    "        \n",
    "        bbox = [x, y, w, h]\n",
    "        bboxes.append(bbox)\n",
    "        labels.append(label)\n",
    "        scores.append(score)\n",
    "    \n",
    "    return bboxes, labels, scores\n",
    "\n",
    "def create_dataset(imgs_path, labels_path, classes=None, name=\"eval_det\", xyxy=False):\n",
    "    samples = []\n",
    "    for img_path, label_path in zip(imgs_path, labels_path):\n",
    "        sample = fo.Sample(filepath=img_path)\n",
    "        gt_bboxes, gt_labels = read_yolo_label(label_path)\n",
    "        gt_detections = [fo.Detection(label=str(label), bounding_box=bbox) for label, bbox in zip(gt_labels, gt_bboxes)]\n",
    "        sample[\"ground_truth\"] = fo.Detections(detections=gt_detections)\n",
    "        samples.append(sample)\n",
    "    print(f'{len(samples)} images found')\n",
    "    # Create dataset\n",
    "    dataset = fo.Dataset(name, overwrite=True)\n",
    "    dataset.add_samples(samples)\n",
    "    return dataset\n",
    "\n",
    "def fo_eval_det_dataset(imgs_path, labels_path, preds_path, classes=None, name=\"eval_det\", xyxy=False):\n",
    "    samples = []\n",
    "    for img_path, label_path, pred_path in zip(imgs_path, labels_path, preds_path):\n",
    "        sample = fo.Sample(filepath=img_path)\n",
    "        gt_bboxes, gt_labels = read_yolo_label(label_path)\n",
    "        pred_bboxes, pred_labels, pred_scores = read_yolo_pred(pred_path, xyxy=xyxy)\n",
    "        \n",
    "        gt_detections = [fo.Detection(label=str(label), bounding_box=bbox) for label, bbox in zip(gt_labels, gt_bboxes)]\n",
    "        pred_detections = [fo.Detection(label=str(label), bounding_box=bbox, confidence=score) for label, bbox, score in zip(pred_labels, pred_bboxes, pred_scores)]\n",
    "        \n",
    "        sample[\"ground_truth\"] = fo.Detections(detections=gt_detections)\n",
    "        sample[\"predictions\"] = fo.Detections(detections=pred_detections)\n",
    "        samples.append(sample)\n",
    "\n",
    "    print(f'{len(samples)} images found')\n",
    "    \n",
    "    # Create dataset\n",
    "    # fo.core.dataset.delete_dataset(name, verbose=True)\n",
    "    # dataset = fo.Dataset(name, overwrite=True)\n",
    "    # fo.delete_non_persistent_datasets(verbose=True)\n",
    "    dataset = fo.Dataset(name, overwrite=True)\n",
    "    dataset.add_samples(samples)\n",
    "    \n",
    "    return dataset"
   ]
  },
  {
   "cell_type": "markdown",
   "id": "7dc26425",
   "metadata": {},
   "source": [
    "## Load Dataset"
   ]
  },
  {
   "cell_type": "code",
   "execution_count": 3,
   "id": "07df2d3b",
   "metadata": {
    "tags": []
   },
   "outputs": [
    {
     "name": "stdout",
     "output_type": "stream",
     "text": [
      "9224 images found\n",
      " 100% |███████████████| 9224/9224 [9.2s elapsed, 0s remaining, 911.9 samples/s]       \n"
     ]
    }
   ],
   "source": [
    "import glob\n",
    "\n",
    "imgs_dir = \"IVTXX17BBXX191024-01_Vehicle Detection Short Distance 5 & 17 Classes Dataset/images\"\n",
    "labels_dir = \"IVTXX17BBXX191024-01_Vehicle Detection Short Distance 5 & 17 Classes Dataset/labels\"\n",
    "\n",
    "txt_exts = [\".txt\"]\n",
    "imgs_path = sorted([img_path for img_path in sorted(glob.glob(f\"{imgs_dir}/**/*.*\", recursive=True)) if ext(img_path) not in txt_exts])\n",
    "labels_path = sorted([label_path for label_path in sorted(glob.glob(f\"{labels_dir}/**/*.*\", recursive=True)) if ext(label_path) in txt_exts])\n",
    "\n",
    "assert len(imgs_path)==len(labels_path)\n",
    "\n",
    "# fiftyone dataset\n",
    "dataset = create_dataset(imgs_path, labels_path, name=\"vehicle_dataset\")"
   ]
  },
  {
   "cell_type": "code",
   "execution_count": 4,
   "id": "7b3cc734-2c27-4048-8bff-0e5f7d305528",
   "metadata": {
    "tags": []
   },
   "outputs": [],
   "source": [
    "dataset.persistent = True"
   ]
  },
  {
   "cell_type": "code",
   "execution_count": 5,
   "id": "15b75f62-10c7-40da-ba90-47ea7e0eb83f",
   "metadata": {
    "tags": []
   },
   "outputs": [
    {
     "data": {
      "text/plain": [
       "Name:        vehicle_dataset\n",
       "Media type:  image\n",
       "Num samples: 9224\n",
       "Persistent:  True\n",
       "Tags:        []\n",
       "Sample fields:\n",
       "    id:           fiftyone.core.fields.ObjectIdField\n",
       "    filepath:     fiftyone.core.fields.StringField\n",
       "    tags:         fiftyone.core.fields.ListField(fiftyone.core.fields.StringField)\n",
       "    metadata:     fiftyone.core.fields.EmbeddedDocumentField(fiftyone.core.metadata.ImageMetadata)\n",
       "    ground_truth: fiftyone.core.fields.EmbeddedDocumentField(fiftyone.core.labels.Detections)"
      ]
     },
     "execution_count": 5,
     "metadata": {},
     "output_type": "execute_result"
    }
   ],
   "source": [
    "dataset = fo.load_dataset(\"vehicle_dataset\")\n",
    "dataset"
   ]
  },
  {
   "cell_type": "code",
   "execution_count": 6,
   "id": "20f0b03f-fe12-4309-8622-27956efd4d08",
   "metadata": {
    "tags": []
   },
   "outputs": [
    {
     "data": {
      "text/html": [
       "\n",
       "<style>\n",
       "@import url(\"https://fonts.googleapis.com/css2?family=Palanquin&display=swap\");\n",
       "\n",
       "body, html {\n",
       "  margin: 0;\n",
       "  padding: 0;\n",
       "  width: 100%;\n",
       "}\n",
       "\n",
       "#focontainer-4266be93-d9eb-47e1-90eb-571e2840e24a {\n",
       "  position: relative;\n",
       "  height: 800px;\n",
       "  display: block !important;\n",
       "}\n",
       "#foactivate-4266be93-d9eb-47e1-90eb-571e2840e24a {\n",
       "  font-weight: bold;\n",
       "  cursor: pointer;\n",
       "  font-size: 24px;\n",
       "  border-radius: 3px;\n",
       "  text-align: center;\n",
       "  padding: 0.5em;\n",
       "  color: rgb(255, 255, 255);\n",
       "  font-family: \"Palanquin\", sans-serif;\n",
       "  position: absolute;\n",
       "  left: 50%;\n",
       "  top: 50%;\n",
       "  width: 160px;\n",
       "  margin-left: -80px;\n",
       "  margin-top: -23px;\n",
       "  background: hsla(210,11%,15%, 0.8);\n",
       "  border: none;\n",
       "}\n",
       "#foactivate-4266be93-d9eb-47e1-90eb-571e2840e24a:focus {\n",
       "  outline: none;\n",
       "}\n",
       "#fooverlay-4266be93-d9eb-47e1-90eb-571e2840e24a {\n",
       "  width: 100%;\n",
       "  height: 100%;\n",
       "  background: hsla(208, 7%, 46%, 0.7);\n",
       "  position: absolute;\n",
       "  top: 0;\n",
       "  left: 0;\n",
       "  display: none;\n",
       "  cursor: pointer;\n",
       "}\n",
       "</style>\n",
       "\n",
       "<div id=\"focontainer-4266be93-d9eb-47e1-90eb-571e2840e24a\">\n",
       "   <div id=\"fooverlay-4266be93-d9eb-47e1-90eb-571e2840e24a\" style=\"display: none;\">\n",
       "      <button id=\"foactivate-4266be93-d9eb-47e1-90eb-571e2840e24a\" >Activate</button>\n",
       "   </div>\n",
       "   <img src='data:image/jpeg;base64,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' style=\"width: 100%; max-width: 1379px;\"/>\n",
       "</div>\n",
       "\n",
       "<script type=\"text/javascript\">\n",
       "   (function() {\n",
       "     var container = document.getElementById(\"focontainer-4266be93-d9eb-47e1-90eb-571e2840e24a\");\n",
       "     var overlay = document.getElementById(\"fooverlay-4266be93-d9eb-47e1-90eb-571e2840e24a\");\n",
       "     fetch(`http://0.0.0.0:5151/fiftyone`)\n",
       "     .then(() => {\n",
       "        overlay.addEventListener(\"click\", () => {\n",
       "          fetch(`http://0.0.0.0:5151/event`, {\n",
       "            method: \"POST\",\n",
       "            body: JSON.stringify({\n",
       "              event: \"reactivate_notebook_cell\",\n",
       "              data: { subscription: \"4266be93-d9eb-47e1-90eb-571e2840e24a\" },\n",
       "              subscription: \"4266be93-d9eb-47e1-90eb-571e2840e24a\"\n",
       "            })\n",
       "          })\n",
       "        });\n",
       "        container.addEventListener(\"mouseenter\", () => overlay.style.display = \"block\");\n",
       "        container.addEventListener(\"mouseleave\", () => overlay.style.display = \"none\");\n",
       "     });\n",
       "   })();\n",
       "</script>"
      ],
      "text/plain": [
       "<IPython.core.display.HTML object>"
      ]
     },
     "metadata": {},
     "output_type": "display_data"
    },
    {
     "name": "stdout",
     "output_type": "stream",
     "text": [
      "\n",
      "Welcome to\n",
      "\n",
      "███████╗██╗███████╗████████╗██╗   ██╗ ██████╗ ███╗   ██╗███████╗\n",
      "██╔════╝██║██╔════╝╚══██╔══╝╚██╗ ██╔╝██╔═══██╗████╗  ██║██╔════╝\n",
      "█████╗  ██║█████╗     ██║    ╚████╔╝ ██║   ██║██╔██╗ ██║█████╗\n",
      "██╔══╝  ██║██╔══╝     ██║     ╚██╔╝  ██║   ██║██║╚██╗██║██╔══╝\n",
      "██║     ██║██║        ██║      ██║   ╚██████╔╝██║ ╚████║███████╗\n",
      "╚═╝     ╚═╝╚═╝        ╚═╝      ╚═╝    ╚═════╝ ╚═╝  ╚═══╝╚══════╝ v0.21.0\n",
      "\n",
      "If you're finding FiftyOne helpful, here's how you can get involved:\n",
      "\n",
      "|\n",
      "|  ⭐⭐⭐ Give the project a star on GitHub ⭐⭐⭐\n",
      "|  https://github.com/voxel51/fiftyone\n",
      "|\n",
      "|  🚀🚀🚀 Join the FiftyOne Slack community 🚀🚀🚀\n",
      "|  https://slack.voxel51.com\n",
      "|\n",
      "\n"
     ]
    }
   ],
   "source": [
    "session = fo.launch_app(dataset)"
   ]
  },
  {
   "cell_type": "markdown",
   "id": "de3bd21f",
   "metadata": {},
   "source": [
    "## Load Model"
   ]
  },
  {
   "cell_type": "code",
   "execution_count": 7,
   "id": "da7774a4",
   "metadata": {
    "tags": []
   },
   "outputs": [
    {
     "name": "stdout",
     "output_type": "stream",
     "text": [
      "Downloading model from 'https://download.pytorch.org/models/resnext50_32x4d-7cdf4587.pth'...\n",
      " 100% |████|  766.3Mb/766.3Mb [6.5s elapsed, 0s remaining, 102.4Mb/s]      \n"
     ]
    },
    {
     "name": "stderr",
     "output_type": "stream",
     "text": [
      "/root/.local/lib/python3.8/site-packages/torchvision/models/_utils.py:208: UserWarning: The parameter 'pretrained' is deprecated since 0.13 and may be removed in the future, please use 'weights' instead.\n",
      "  warnings.warn(\n",
      "/root/.local/lib/python3.8/site-packages/torchvision/models/_utils.py:223: UserWarning: Arguments other than a weight enum or `None` for 'weights' are deprecated since 0.13 and may be removed in the future. The current behavior is equivalent to passing `weights=ResNeXt50_32X4D_Weights.IMAGENET1K_V1`. You can also use `weights=ResNeXt50_32X4D_Weights.DEFAULT` to get the most up-to-date weights.\n",
      "  warnings.warn(msg)\n",
      "Downloading: \"https://download.pytorch.org/models/resnext50_32x4d-7cdf4587.pth\" to /root/.cache/torch/hub/checkpoints/resnext50_32x4d-7cdf4587.pth\n",
      "100%|████████████████████████████████████████████████████████████████████████████████████████████████████████████████████████████████████████| 95.8M/95.8M [00:06<00:00, 15.5MB/s]\n"
     ]
    }
   ],
   "source": [
    "import fiftyone.zoo as foz\n",
    "\n",
    "# Load zoo model\n",
    "model = foz.load_zoo_model(\"resnext50-32x4d-imagenet-torch\")"
   ]
  },
  {
   "cell_type": "code",
   "execution_count": 8,
   "id": "7cf600c5",
   "metadata": {
    "tags": []
   },
   "outputs": [
    {
     "name": "stdout",
     "output_type": "stream",
     "text": []
    },
    {
     "name": "stdout",
     "output_type": "stream",
     "text": [
      "Batch: 6498e4c89f84ca9c16e71a67 - 6498e4c89f84ca9c16e71a67                        \n",
      "Error: image file is truncated (39 bytes not processed)\n",
      "\n",
      " 100% |███████████████| 9224/9224 [25.7m elapsed, 0s remaining, 5.9 samples/s]      \n"
     ]
    }
   ],
   "source": [
    "img_embeddings = dataset.compute_embeddings(model)"
   ]
  },
  {
   "cell_type": "code",
   "execution_count": 9,
   "id": "5cac8e75",
   "metadata": {
    "tags": []
   },
   "outputs": [
    {
     "name": "stderr",
     "output_type": "stream",
     "text": [
      "/root/.local/lib/python3.8/site-packages/numpy/lib/npyio.py:521: VisibleDeprecationWarning: Creating an ndarray from ragged nested sequences (which is a list-or-tuple of lists-or-tuples-or ndarrays with different lengths or shapes) is deprecated. If you meant to do this, you must specify 'dtype=object' when creating the ndarray.\n",
      "  arr = np.asanyarray(arr)\n"
     ]
    }
   ],
   "source": [
    "import numpy as np\n",
    "\n",
    "np.save(\"full_frame_embeddings.npy\", img_embeddings)"
   ]
  },
  {
   "cell_type": "markdown",
   "id": "31435632",
   "metadata": {},
   "source": [
    "## Visualize Embedding Result"
   ]
  },
  {
   "cell_type": "code",
   "execution_count": 10,
   "id": "cbd83079",
   "metadata": {
    "tags": []
   },
   "outputs": [],
   "source": [
    "from fiftyone import ViewField as F\n",
    "import fiftyone.brain as fob\n",
    "import fiftyone.core.utils as fou\n",
    "\n",
    "def compute_visualization_classification(\n",
    "    dataset,\n",
    "    embeddings,\n",
    "    method=\"umap\",\n",
    "    brain_key=\"umap_embeddings\",\n",
    "    ):\n",
    "    # Compute 2D representation using pre-computed embeddings\n",
    "    viz_results = fob.compute_visualization(\n",
    "        dataset,\n",
    "        embeddings=embeddings,\n",
    "        num_dims=2,\n",
    "        method=method,\n",
    "        brain_key=brain_key,\n",
    "        verbose=True,\n",
    "        seed=51)\n",
    "    return viz_results\n",
    "\n",
    "def compute_visualization_detection(\n",
    "    dataset,\n",
    "    embeddings,\n",
    "    patches_field=\"ground_truth\"\n",
    "        ):\n",
    "    # Compute 2D representation using pre-computed embeddings\n",
    "    viz_results = fob.compute_visualization(\n",
    "        dataset,\n",
    "        patches_field=patches_field,\n",
    "        embeddings=embeddings,\n",
    "        num_dims=2,\n",
    "        brain_key=\"image_embeddings\",\n",
    "        verbose=True,\n",
    "        seed=51)\n",
    "    return viz_results\n",
    "\n",
    "def compute_uniqueness(dataset, embeddings):\n",
    "    fob.compute_uniqueness(dataset, embeddings=embeddings)\n",
    "    dataset.sort_by(\"uniqueness\", reverse=True)\n",
    "    return dataset\n",
    "\n",
    "def plot_img_embedding(viz_result, labels=\"unlabeled\"):\n",
    "    plot = viz_result.visualize(labels=labels)\n",
    "    return plot"
   ]
  },
  {
   "cell_type": "markdown",
   "id": "0c436d11",
   "metadata": {},
   "source": [
    "## Plot Full Embeddings"
   ]
  },
  {
   "cell_type": "code",
   "execution_count": 11,
   "id": "a6cca3b2-7ff5-41f8-b3b2-c46ac04abd6a",
   "metadata": {
    "tags": []
   },
   "outputs": [],
   "source": [
    "for sample in dataset:\n",
    "    sample[\"full_frame\"] = \"full_frame\"\n",
    "    sample.save()"
   ]
  },
  {
   "cell_type": "code",
   "execution_count": 12,
   "id": "65ff1399-735a-4197-aa7d-264c76de4f5d",
   "metadata": {
    "tags": []
   },
   "outputs": [
    {
     "data": {
      "text/plain": [
       "<Sample: {\n",
       "    'id': '6498e4c59f84ca9c16e70e9d',\n",
       "    'media_type': 'image',\n",
       "    'filepath': '/workspaces/learn-mlops/IVTXX17BBXX191024-01_Vehicle Detection Short Distance 5 & 17 Classes Dataset/images/11134_2018-07-19_11-38-12_326933.jpg',\n",
       "    'tags': [],\n",
       "    'metadata': None,\n",
       "    'ground_truth': <Detections: {\n",
       "        'detections': [\n",
       "            <Detection: {\n",
       "                'id': '6498e4be9f84ca9c16e6a808',\n",
       "                'attributes': {},\n",
       "                'tags': [],\n",
       "                'label': '0',\n",
       "                'bounding_box': [\n",
       "                    0.378125,\n",
       "                    0.05462962962962964,\n",
       "                    0.240625,\n",
       "                    0.40555555555555556,\n",
       "                ],\n",
       "                'mask': None,\n",
       "                'confidence': None,\n",
       "                'index': None,\n",
       "            }>,\n",
       "            <Detection: {\n",
       "                'id': '6498e4be9f84ca9c16e6a809',\n",
       "                'attributes': {},\n",
       "                'tags': [],\n",
       "                'label': '4',\n",
       "                'bounding_box': [\n",
       "                    0.3619791666666667,\n",
       "                    0.0009259259259259273,\n",
       "                    0.1859375,\n",
       "                    0.23148148148148148,\n",
       "                ],\n",
       "                'mask': None,\n",
       "                'confidence': None,\n",
       "                'index': None,\n",
       "            }>,\n",
       "            <Detection: {\n",
       "                'id': '6498e4be9f84ca9c16e6a80a',\n",
       "                'attributes': {},\n",
       "                'tags': [],\n",
       "                'label': '0',\n",
       "                'bounding_box': [\n",
       "                    0.8333333333333333,\n",
       "                    0.27129629629629626,\n",
       "                    0.16666666666666666,\n",
       "                    0.42777777777777776,\n",
       "                ],\n",
       "                'mask': None,\n",
       "                'confidence': None,\n",
       "                'index': None,\n",
       "            }>,\n",
       "            <Detection: {\n",
       "                'id': '6498e4be9f84ca9c16e6a80b',\n",
       "                'attributes': {},\n",
       "                'tags': [],\n",
       "                'label': '0',\n",
       "                'bounding_box': [\n",
       "                    0.8119791666666667,\n",
       "                    0.0824074074074074,\n",
       "                    0.1875,\n",
       "                    0.3351851851851852,\n",
       "                ],\n",
       "                'mask': None,\n",
       "                'confidence': None,\n",
       "                'index': None,\n",
       "            }>,\n",
       "            <Detection: {\n",
       "                'id': '6498e4be9f84ca9c16e6a80c',\n",
       "                'attributes': {},\n",
       "                'tags': [],\n",
       "                'label': '4',\n",
       "                'bounding_box': [\n",
       "                    0.40364583333333326,\n",
       "                    0.4268518518518519,\n",
       "                    0.25677083333333334,\n",
       "                    0.4324074074074074,\n",
       "                ],\n",
       "                'mask': None,\n",
       "                'confidence': None,\n",
       "                'index': None,\n",
       "            }>,\n",
       "        ],\n",
       "    }>,\n",
       "    'full_frame': 'full_frame',\n",
       "}>"
      ]
     },
     "execution_count": 12,
     "metadata": {},
     "output_type": "execute_result"
    }
   ],
   "source": [
    "dataset.first()"
   ]
  },
  {
   "cell_type": "code",
   "execution_count": 13,
   "id": "e5b3ac6d",
   "metadata": {
    "tags": []
   },
   "outputs": [
    {
     "name": "stdout",
     "output_type": "stream",
     "text": [
      "Generating visualization...\n"
     ]
    },
    {
     "name": "stderr",
     "output_type": "stream",
     "text": [
      "/root/.local/lib/python3.8/site-packages/umap/distances.py:1063: NumbaDeprecationWarning: \u001b[1mThe 'nopython' keyword argument was not supplied to the 'numba.jit' decorator. The implicit default value for this argument is currently False, but it will be changed to True in Numba 0.59.0. See https://numba.readthedocs.io/en/stable/reference/deprecation.html#deprecation-of-object-mode-fall-back-behaviour-when-using-jit for details.\u001b[0m\n",
      "  @numba.jit()\n",
      "/root/.local/lib/python3.8/site-packages/umap/distances.py:1071: NumbaDeprecationWarning: \u001b[1mThe 'nopython' keyword argument was not supplied to the 'numba.jit' decorator. The implicit default value for this argument is currently False, but it will be changed to True in Numba 0.59.0. See https://numba.readthedocs.io/en/stable/reference/deprecation.html#deprecation-of-object-mode-fall-back-behaviour-when-using-jit for details.\u001b[0m\n",
      "  @numba.jit()\n",
      "/root/.local/lib/python3.8/site-packages/umap/distances.py:1086: NumbaDeprecationWarning: \u001b[1mThe 'nopython' keyword argument was not supplied to the 'numba.jit' decorator. The implicit default value for this argument is currently False, but it will be changed to True in Numba 0.59.0. See https://numba.readthedocs.io/en/stable/reference/deprecation.html#deprecation-of-object-mode-fall-back-behaviour-when-using-jit for details.\u001b[0m\n",
      "  @numba.jit()\n",
      "/root/.local/lib/python3.8/site-packages/umap/umap_.py:660: NumbaDeprecationWarning: \u001b[1mThe 'nopython' keyword argument was not supplied to the 'numba.jit' decorator. The implicit default value for this argument is currently False, but it will be changed to True in Numba 0.59.0. See https://numba.readthedocs.io/en/stable/reference/deprecation.html#deprecation-of-object-mode-fall-back-behaviour-when-using-jit for details.\u001b[0m\n",
      "  @numba.jit()\n"
     ]
    },
    {
     "name": "stdout",
     "output_type": "stream",
     "text": [
      "UMAP(random_state=51, verbose=True)\n",
      "Mon Jun 26 01:34:35 2023 Construct fuzzy simplicial set\n",
      "Mon Jun 26 01:34:35 2023 Finding Nearest Neighbors\n",
      "Mon Jun 26 01:34:35 2023 Building RP forest with 10 trees\n",
      "Mon Jun 26 01:34:39 2023 NN descent for 13 iterations\n",
      "\t 1  /  13\n",
      "\t 2  /  13\n",
      "\t 3  /  13\n",
      "\tStopping threshold met -- exiting after 3 iterations\n",
      "Mon Jun 26 01:34:51 2023 Finished Nearest Neighbor Search\n",
      "Mon Jun 26 01:34:54 2023 Construct embedding\n"
     ]
    },
    {
     "data": {
      "application/vnd.jupyter.widget-view+json": {
       "model_id": "cd5c9dc45618427eaa400fef193fed21",
       "version_major": 2,
       "version_minor": 0
      },
      "text/plain": [
       "Epochs completed:   0%|            0/500 [00:00]"
      ]
     },
     "metadata": {},
     "output_type": "display_data"
    },
    {
     "name": "stdout",
     "output_type": "stream",
     "text": [
      "Mon Jun 26 01:35:07 2023 Finished embedding\n"
     ]
    }
   ],
   "source": [
    "full_viz_results = compute_visualization_classification(dataset, img_embeddings, brain_key=\"img_embeddings\")"
   ]
  },
  {
   "cell_type": "code",
   "execution_count": 14,
   "id": "5c94c46f-4c44-4532-827d-23d9430954b6",
   "metadata": {
    "tags": []
   },
   "outputs": [
    {
     "name": "stdout",
     "output_type": "stream",
     "text": [
      "Requirement already satisfied: ipywidgets<8,>=7.5 in /root/.local/lib/python3.8/site-packages (7.7.5)\n",
      "Requirement already satisfied: ipykernel>=4.5.1 in /root/.local/lib/python3.8/site-packages (from ipywidgets<8,>=7.5) (6.23.3)\n",
      "Requirement already satisfied: ipython-genutils~=0.2.0 in /root/.local/lib/python3.8/site-packages (from ipywidgets<8,>=7.5) (0.2.0)\n",
      "Requirement already satisfied: traitlets>=4.3.1 in /root/.local/lib/python3.8/site-packages (from ipywidgets<8,>=7.5) (5.9.0)\n",
      "Requirement already satisfied: widgetsnbextension~=3.6.4 in /root/.local/lib/python3.8/site-packages (from ipywidgets<8,>=7.5) (3.6.4)\n",
      "Requirement already satisfied: ipython>=4.0.0 in /root/.local/lib/python3.8/site-packages (from ipywidgets<8,>=7.5) (8.12.2)\n",
      "Requirement already satisfied: jupyterlab-widgets<3,>=1.0.0 in /root/.local/lib/python3.8/site-packages (from ipywidgets<8,>=7.5) (1.1.4)\n",
      "Requirement already satisfied: comm>=0.1.1 in /root/.local/lib/python3.8/site-packages (from ipykernel>=4.5.1->ipywidgets<8,>=7.5) (0.1.3)\n",
      "Requirement already satisfied: debugpy>=1.6.5 in /root/.local/lib/python3.8/site-packages (from ipykernel>=4.5.1->ipywidgets<8,>=7.5) (1.6.7)\n",
      "Requirement already satisfied: jupyter-client>=6.1.12 in /root/.local/lib/python3.8/site-packages (from ipykernel>=4.5.1->ipywidgets<8,>=7.5) (8.3.0)\n",
      "Requirement already satisfied: jupyter-core!=5.0.*,>=4.12 in /root/.local/lib/python3.8/site-packages (from ipykernel>=4.5.1->ipywidgets<8,>=7.5) (5.3.1)\n",
      "Requirement already satisfied: matplotlib-inline>=0.1 in /root/.local/lib/python3.8/site-packages (from ipykernel>=4.5.1->ipywidgets<8,>=7.5) (0.1.6)\n",
      "Requirement already satisfied: nest-asyncio in /root/.local/lib/python3.8/site-packages (from ipykernel>=4.5.1->ipywidgets<8,>=7.5) (1.5.6)\n",
      "Requirement already satisfied: packaging in /root/.local/lib/python3.8/site-packages (from ipykernel>=4.5.1->ipywidgets<8,>=7.5) (23.1)\n",
      "Requirement already satisfied: psutil in /root/.local/lib/python3.8/site-packages (from ipykernel>=4.5.1->ipywidgets<8,>=7.5) (5.9.5)\n",
      "Requirement already satisfied: pyzmq>=20 in /root/.local/lib/python3.8/site-packages (from ipykernel>=4.5.1->ipywidgets<8,>=7.5) (25.1.0)\n",
      "Requirement already satisfied: tornado>=6.1 in /root/.local/lib/python3.8/site-packages (from ipykernel>=4.5.1->ipywidgets<8,>=7.5) (6.3.2)\n",
      "Requirement already satisfied: backcall in /root/.local/lib/python3.8/site-packages (from ipython>=4.0.0->ipywidgets<8,>=7.5) (0.2.0)\n",
      "Requirement already satisfied: decorator in /root/.local/lib/python3.8/site-packages (from ipython>=4.0.0->ipywidgets<8,>=7.5) (5.1.1)\n",
      "Requirement already satisfied: jedi>=0.16 in /root/.local/lib/python3.8/site-packages (from ipython>=4.0.0->ipywidgets<8,>=7.5) (0.18.2)\n",
      "Requirement already satisfied: pickleshare in /root/.local/lib/python3.8/site-packages (from ipython>=4.0.0->ipywidgets<8,>=7.5) (0.7.5)\n",
      "Requirement already satisfied: prompt-toolkit!=3.0.37,<3.1.0,>=3.0.30 in /root/.local/lib/python3.8/site-packages (from ipython>=4.0.0->ipywidgets<8,>=7.5) (3.0.38)\n",
      "Requirement already satisfied: pygments>=2.4.0 in /root/.local/lib/python3.8/site-packages (from ipython>=4.0.0->ipywidgets<8,>=7.5) (2.15.1)\n",
      "Requirement already satisfied: stack-data in /root/.local/lib/python3.8/site-packages (from ipython>=4.0.0->ipywidgets<8,>=7.5) (0.6.2)\n",
      "Requirement already satisfied: typing-extensions in /root/.local/lib/python3.8/site-packages (from ipython>=4.0.0->ipywidgets<8,>=7.5) (4.6.3)\n",
      "Requirement already satisfied: pexpect>4.3 in /root/.local/lib/python3.8/site-packages (from ipython>=4.0.0->ipywidgets<8,>=7.5) (4.8.0)\n",
      "Requirement already satisfied: notebook>=4.4.1 in /root/.local/lib/python3.8/site-packages (from widgetsnbextension~=3.6.4->ipywidgets<8,>=7.5) (6.5.4)\n",
      "Requirement already satisfied: parso<0.9.0,>=0.8.0 in /root/.local/lib/python3.8/site-packages (from jedi>=0.16->ipython>=4.0.0->ipywidgets<8,>=7.5) (0.8.3)\n",
      "Requirement already satisfied: importlib-metadata>=4.8.3 in /root/.local/lib/python3.8/site-packages (from jupyter-client>=6.1.12->ipykernel>=4.5.1->ipywidgets<8,>=7.5) (6.7.0)\n",
      "Requirement already satisfied: python-dateutil>=2.8.2 in /root/.local/lib/python3.8/site-packages (from jupyter-client>=6.1.12->ipykernel>=4.5.1->ipywidgets<8,>=7.5) (2.8.2)\n",
      "Requirement already satisfied: platformdirs>=2.5 in /root/.local/lib/python3.8/site-packages (from jupyter-core!=5.0.*,>=4.12->ipykernel>=4.5.1->ipywidgets<8,>=7.5) (3.8.0)\n",
      "Requirement already satisfied: jinja2 in /root/.local/lib/python3.8/site-packages (from notebook>=4.4.1->widgetsnbextension~=3.6.4->ipywidgets<8,>=7.5) (3.1.2)\n",
      "Requirement already satisfied: argon2-cffi in /root/.local/lib/python3.8/site-packages (from notebook>=4.4.1->widgetsnbextension~=3.6.4->ipywidgets<8,>=7.5) (21.3.0)\n",
      "Requirement already satisfied: nbformat in /root/.local/lib/python3.8/site-packages (from notebook>=4.4.1->widgetsnbextension~=3.6.4->ipywidgets<8,>=7.5) (5.9.0)\n",
      "Requirement already satisfied: nbconvert>=5 in /root/.local/lib/python3.8/site-packages (from notebook>=4.4.1->widgetsnbextension~=3.6.4->ipywidgets<8,>=7.5) (7.6.0)\n",
      "Requirement already satisfied: Send2Trash>=1.8.0 in /root/.local/lib/python3.8/site-packages (from notebook>=4.4.1->widgetsnbextension~=3.6.4->ipywidgets<8,>=7.5) (1.8.2)\n",
      "Requirement already satisfied: terminado>=0.8.3 in /root/.local/lib/python3.8/site-packages (from notebook>=4.4.1->widgetsnbextension~=3.6.4->ipywidgets<8,>=7.5) (0.17.1)\n",
      "Requirement already satisfied: prometheus-client in /root/.local/lib/python3.8/site-packages (from notebook>=4.4.1->widgetsnbextension~=3.6.4->ipywidgets<8,>=7.5) (0.17.0)\n",
      "Requirement already satisfied: nbclassic>=0.4.7 in /root/.local/lib/python3.8/site-packages (from notebook>=4.4.1->widgetsnbextension~=3.6.4->ipywidgets<8,>=7.5) (1.0.0)\n",
      "Requirement already satisfied: ptyprocess>=0.5 in /root/.local/lib/python3.8/site-packages (from pexpect>4.3->ipython>=4.0.0->ipywidgets<8,>=7.5) (0.7.0)\n",
      "Requirement already satisfied: wcwidth in /root/.local/lib/python3.8/site-packages (from prompt-toolkit!=3.0.37,<3.1.0,>=3.0.30->ipython>=4.0.0->ipywidgets<8,>=7.5) (0.2.6)\n",
      "Requirement already satisfied: executing>=1.2.0 in /root/.local/lib/python3.8/site-packages (from stack-data->ipython>=4.0.0->ipywidgets<8,>=7.5) (1.2.0)\n",
      "Requirement already satisfied: asttokens>=2.1.0 in /root/.local/lib/python3.8/site-packages (from stack-data->ipython>=4.0.0->ipywidgets<8,>=7.5) (2.2.1)\n",
      "Requirement already satisfied: pure-eval in /root/.local/lib/python3.8/site-packages (from stack-data->ipython>=4.0.0->ipywidgets<8,>=7.5) (0.2.2)\n",
      "Requirement already satisfied: six in /root/.local/lib/python3.8/site-packages (from asttokens>=2.1.0->stack-data->ipython>=4.0.0->ipywidgets<8,>=7.5) (1.16.0)\n",
      "Requirement already satisfied: zipp>=0.5 in /root/.local/lib/python3.8/site-packages (from importlib-metadata>=4.8.3->jupyter-client>=6.1.12->ipykernel>=4.5.1->ipywidgets<8,>=7.5) (3.15.0)\n",
      "Requirement already satisfied: jupyter-server>=1.8 in /root/.local/lib/python3.8/site-packages (from nbclassic>=0.4.7->notebook>=4.4.1->widgetsnbextension~=3.6.4->ipywidgets<8,>=7.5) (2.6.0)\n",
      "Requirement already satisfied: notebook-shim>=0.2.3 in /root/.local/lib/python3.8/site-packages (from nbclassic>=0.4.7->notebook>=4.4.1->widgetsnbextension~=3.6.4->ipywidgets<8,>=7.5) (0.2.3)\n",
      "Requirement already satisfied: beautifulsoup4 in /root/.local/lib/python3.8/site-packages (from nbconvert>=5->notebook>=4.4.1->widgetsnbextension~=3.6.4->ipywidgets<8,>=7.5) (4.12.2)\n",
      "Requirement already satisfied: bleach!=5.0.0 in /root/.local/lib/python3.8/site-packages (from nbconvert>=5->notebook>=4.4.1->widgetsnbextension~=3.6.4->ipywidgets<8,>=7.5) (6.0.0)\n",
      "Requirement already satisfied: defusedxml in /root/.local/lib/python3.8/site-packages (from nbconvert>=5->notebook>=4.4.1->widgetsnbextension~=3.6.4->ipywidgets<8,>=7.5) (0.7.1)\n",
      "Requirement already satisfied: jupyterlab-pygments in /root/.local/lib/python3.8/site-packages (from nbconvert>=5->notebook>=4.4.1->widgetsnbextension~=3.6.4->ipywidgets<8,>=7.5) (0.2.2)\n",
      "Requirement already satisfied: markupsafe>=2.0 in /root/.local/lib/python3.8/site-packages (from nbconvert>=5->notebook>=4.4.1->widgetsnbextension~=3.6.4->ipywidgets<8,>=7.5) (2.1.3)\n",
      "Requirement already satisfied: mistune<4,>=2.0.3 in /root/.local/lib/python3.8/site-packages (from nbconvert>=5->notebook>=4.4.1->widgetsnbextension~=3.6.4->ipywidgets<8,>=7.5) (3.0.1)\n",
      "Requirement already satisfied: nbclient>=0.5.0 in /root/.local/lib/python3.8/site-packages (from nbconvert>=5->notebook>=4.4.1->widgetsnbextension~=3.6.4->ipywidgets<8,>=7.5) (0.8.0)\n",
      "Requirement already satisfied: pandocfilters>=1.4.1 in /root/.local/lib/python3.8/site-packages (from nbconvert>=5->notebook>=4.4.1->widgetsnbextension~=3.6.4->ipywidgets<8,>=7.5) (1.5.0)\n",
      "Requirement already satisfied: tinycss2 in /root/.local/lib/python3.8/site-packages (from nbconvert>=5->notebook>=4.4.1->widgetsnbextension~=3.6.4->ipywidgets<8,>=7.5) (1.2.1)\n",
      "Requirement already satisfied: fastjsonschema in /root/.local/lib/python3.8/site-packages (from nbformat->notebook>=4.4.1->widgetsnbextension~=3.6.4->ipywidgets<8,>=7.5) (2.17.1)\n",
      "Requirement already satisfied: jsonschema>=2.6 in /root/.local/lib/python3.8/site-packages (from nbformat->notebook>=4.4.1->widgetsnbextension~=3.6.4->ipywidgets<8,>=7.5) (4.17.3)\n",
      "Requirement already satisfied: argon2-cffi-bindings in /root/.local/lib/python3.8/site-packages (from argon2-cffi->notebook>=4.4.1->widgetsnbextension~=3.6.4->ipywidgets<8,>=7.5) (21.2.0)\n",
      "Requirement already satisfied: webencodings in /root/.local/lib/python3.8/site-packages (from bleach!=5.0.0->nbconvert>=5->notebook>=4.4.1->widgetsnbextension~=3.6.4->ipywidgets<8,>=7.5) (0.5.1)\n",
      "Requirement already satisfied: attrs>=17.4.0 in /root/.local/lib/python3.8/site-packages (from jsonschema>=2.6->nbformat->notebook>=4.4.1->widgetsnbextension~=3.6.4->ipywidgets<8,>=7.5) (23.1.0)\n",
      "Requirement already satisfied: importlib-resources>=1.4.0 in /root/.local/lib/python3.8/site-packages (from jsonschema>=2.6->nbformat->notebook>=4.4.1->widgetsnbextension~=3.6.4->ipywidgets<8,>=7.5) (5.12.0)\n",
      "Requirement already satisfied: pkgutil-resolve-name>=1.3.10 in /root/.local/lib/python3.8/site-packages (from jsonschema>=2.6->nbformat->notebook>=4.4.1->widgetsnbextension~=3.6.4->ipywidgets<8,>=7.5) (1.3.10)\n",
      "Requirement already satisfied: pyrsistent!=0.17.0,!=0.17.1,!=0.17.2,>=0.14.0 in /root/.local/lib/python3.8/site-packages (from jsonschema>=2.6->nbformat->notebook>=4.4.1->widgetsnbextension~=3.6.4->ipywidgets<8,>=7.5) (0.19.3)\n",
      "Requirement already satisfied: anyio>=3.1.0 in /root/.local/lib/python3.8/site-packages (from jupyter-server>=1.8->nbclassic>=0.4.7->notebook>=4.4.1->widgetsnbextension~=3.6.4->ipywidgets<8,>=7.5) (3.7.0)\n",
      "Requirement already satisfied: jupyter-events>=0.6.0 in /root/.local/lib/python3.8/site-packages (from jupyter-server>=1.8->nbclassic>=0.4.7->notebook>=4.4.1->widgetsnbextension~=3.6.4->ipywidgets<8,>=7.5) (0.6.3)\n",
      "Requirement already satisfied: jupyter-server-terminals in /root/.local/lib/python3.8/site-packages (from jupyter-server>=1.8->nbclassic>=0.4.7->notebook>=4.4.1->widgetsnbextension~=3.6.4->ipywidgets<8,>=7.5) (0.4.4)\n",
      "Requirement already satisfied: overrides in /root/.local/lib/python3.8/site-packages (from jupyter-server>=1.8->nbclassic>=0.4.7->notebook>=4.4.1->widgetsnbextension~=3.6.4->ipywidgets<8,>=7.5) (7.3.1)\n",
      "Requirement already satisfied: websocket-client in /root/.local/lib/python3.8/site-packages (from jupyter-server>=1.8->nbclassic>=0.4.7->notebook>=4.4.1->widgetsnbextension~=3.6.4->ipywidgets<8,>=7.5) (1.6.1)\n",
      "Requirement already satisfied: cffi>=1.0.1 in /root/.local/lib/python3.8/site-packages (from argon2-cffi-bindings->argon2-cffi->notebook>=4.4.1->widgetsnbextension~=3.6.4->ipywidgets<8,>=7.5) (1.15.1)\n",
      "Requirement already satisfied: soupsieve>1.2 in /root/.local/lib/python3.8/site-packages (from beautifulsoup4->nbconvert>=5->notebook>=4.4.1->widgetsnbextension~=3.6.4->ipywidgets<8,>=7.5) (2.4.1)\n",
      "Requirement already satisfied: idna>=2.8 in /root/.local/lib/python3.8/site-packages (from anyio>=3.1.0->jupyter-server>=1.8->nbclassic>=0.4.7->notebook>=4.4.1->widgetsnbextension~=3.6.4->ipywidgets<8,>=7.5) (3.4)\n",
      "Requirement already satisfied: sniffio>=1.1 in /root/.local/lib/python3.8/site-packages (from anyio>=3.1.0->jupyter-server>=1.8->nbclassic>=0.4.7->notebook>=4.4.1->widgetsnbextension~=3.6.4->ipywidgets<8,>=7.5) (1.3.0)\n",
      "Requirement already satisfied: exceptiongroup in /root/.local/lib/python3.8/site-packages (from anyio>=3.1.0->jupyter-server>=1.8->nbclassic>=0.4.7->notebook>=4.4.1->widgetsnbextension~=3.6.4->ipywidgets<8,>=7.5) (1.1.1)\n",
      "Requirement already satisfied: pycparser in /root/.local/lib/python3.8/site-packages (from cffi>=1.0.1->argon2-cffi-bindings->argon2-cffi->notebook>=4.4.1->widgetsnbextension~=3.6.4->ipywidgets<8,>=7.5) (2.21)\n",
      "Requirement already satisfied: python-json-logger>=2.0.4 in /root/.local/lib/python3.8/site-packages (from jupyter-events>=0.6.0->jupyter-server>=1.8->nbclassic>=0.4.7->notebook>=4.4.1->widgetsnbextension~=3.6.4->ipywidgets<8,>=7.5) (2.0.7)\n",
      "Requirement already satisfied: pyyaml>=5.3 in /root/.local/lib/python3.8/site-packages (from jupyter-events>=0.6.0->jupyter-server>=1.8->nbclassic>=0.4.7->notebook>=4.4.1->widgetsnbextension~=3.6.4->ipywidgets<8,>=7.5) (6.0)\n",
      "Requirement already satisfied: rfc3339-validator in /root/.local/lib/python3.8/site-packages (from jupyter-events>=0.6.0->jupyter-server>=1.8->nbclassic>=0.4.7->notebook>=4.4.1->widgetsnbextension~=3.6.4->ipywidgets<8,>=7.5) (0.1.4)\n",
      "Requirement already satisfied: rfc3986-validator>=0.1.1 in /root/.local/lib/python3.8/site-packages (from jupyter-events>=0.6.0->jupyter-server>=1.8->nbclassic>=0.4.7->notebook>=4.4.1->widgetsnbextension~=3.6.4->ipywidgets<8,>=7.5) (0.1.1)\n",
      "Requirement already satisfied: fqdn in /root/.local/lib/python3.8/site-packages (from jsonschema>=2.6->nbformat->notebook>=4.4.1->widgetsnbextension~=3.6.4->ipywidgets<8,>=7.5) (1.5.1)\n",
      "Requirement already satisfied: isoduration in /root/.local/lib/python3.8/site-packages (from jsonschema>=2.6->nbformat->notebook>=4.4.1->widgetsnbextension~=3.6.4->ipywidgets<8,>=7.5) (20.11.0)\n",
      "Requirement already satisfied: jsonpointer>1.13 in /root/.local/lib/python3.8/site-packages (from jsonschema>=2.6->nbformat->notebook>=4.4.1->widgetsnbextension~=3.6.4->ipywidgets<8,>=7.5) (2.4)\n",
      "Requirement already satisfied: uri-template in /root/.local/lib/python3.8/site-packages (from jsonschema>=2.6->nbformat->notebook>=4.4.1->widgetsnbextension~=3.6.4->ipywidgets<8,>=7.5) (1.3.0)\n",
      "Requirement already satisfied: webcolors>=1.11 in /root/.local/lib/python3.8/site-packages (from jsonschema>=2.6->nbformat->notebook>=4.4.1->widgetsnbextension~=3.6.4->ipywidgets<8,>=7.5) (1.13)\n",
      "Requirement already satisfied: arrow>=0.15.0 in /root/.local/lib/python3.8/site-packages (from isoduration->jsonschema>=2.6->nbformat->notebook>=4.4.1->widgetsnbextension~=3.6.4->ipywidgets<8,>=7.5) (1.2.3)\n",
      "\u001b[33mWARNING: Running pip as the 'root' user can result in broken permissions and conflicting behaviour with the system package manager. It is recommended to use a virtual environment instead: https://pip.pypa.io/warnings/venv\u001b[0m\u001b[33m\n",
      "\u001b[0m"
     ]
    }
   ],
   "source": [
    "!pip install 'ipywidgets<8,>=7.5'"
   ]
  },
  {
   "cell_type": "code",
   "execution_count": 15,
   "id": "ecc20b25",
   "metadata": {
    "tags": []
   },
   "outputs": [
    {
     "data": {
      "text/plain": []
     },
     "metadata": {},
     "output_type": "display_data"
    },
    {
     "data": {
      "text/plain": []
     },
     "metadata": {},
     "output_type": "display_data"
    },
    {
     "data": {
      "application/vnd.jupyter.widget-view+json": {
       "model_id": "12cffa56733a46ab9e83b11ebba6e618",
       "version_major": 2,
       "version_minor": 0
      },
      "text/plain": [
       "FigureWidget({\n",
       "    'data': [{'customdata': array(['6498e4c59f84ca9c16e70e9d', '6498e4c59f84ca9c16e70e9e',\n",
       "                                   '6498e4c59f84ca9c16e70e9f', ..., '6498e4ce9f84ca9c16e732a2',\n",
       "                                   '6498e4ce9f84ca9c16e732a3', '6498e4ce9f84ca9c16e732a4'], dtype=object),\n",
       "              'hovertemplate': ('<b>full_frame: %{text}</b><br>' ... ': %{customdata}<extra></extra>'),\n",
       "              'line': {'color': '#FF6D04'},\n",
       "              'mode': 'markers',\n",
       "              'name': 'full_frame',\n",
       "              'showlegend': True,\n",
       "              'text': array(['full_frame', 'full_frame', 'full_frame', ..., 'full_frame',\n",
       "                             'full_frame', 'full_frame'], dtype='<U10'),\n",
       "              'type': 'scattergl',\n",
       "              'uid': 'e7970abf-c8e4-41ad-999d-23a656e90279',\n",
       "              'x': array([-3.9742475, -4.0253286, -4.011678 , ..., 12.95529  , 12.955577 ,\n",
       "                          12.970366 ], dtype=float32),\n",
       "              'y': array([12.344195 , 11.768739 , 12.435331 , ...,  6.2166452,  6.217511 ,\n",
       "                           6.2214313], dtype=float32)}],\n",
       "    'layout': {'legend': {'itemsizing': 'constant', 'title': {'text': 'full_frame'}},\n",
       "               'margin': {'b': 0, 'l': 0, 'r': 0, 't': 30},\n",
       "               'template': '...'}\n",
       "})"
      ]
     },
     "metadata": {},
     "output_type": "display_data"
    },
    {
     "data": {
      "text/html": [
       "\n",
       "<style>\n",
       "@import url(\"https://fonts.googleapis.com/css2?family=Palanquin&display=swap\");\n",
       "\n",
       "body, html {\n",
       "  margin: 0;\n",
       "  padding: 0;\n",
       "  width: 100%;\n",
       "}\n",
       "\n",
       "#focontainer-cc04e625-2dd8-415d-805c-139111f91a95 {\n",
       "  position: relative;\n",
       "  height: 800px;\n",
       "  display: block !important;\n",
       "}\n",
       "#foactivate-cc04e625-2dd8-415d-805c-139111f91a95 {\n",
       "  font-weight: bold;\n",
       "  cursor: pointer;\n",
       "  font-size: 24px;\n",
       "  border-radius: 3px;\n",
       "  text-align: center;\n",
       "  padding: 0.5em;\n",
       "  color: rgb(255, 255, 255);\n",
       "  font-family: \"Palanquin\", sans-serif;\n",
       "  position: absolute;\n",
       "  left: 50%;\n",
       "  top: 50%;\n",
       "  width: 160px;\n",
       "  margin-left: -80px;\n",
       "  margin-top: -23px;\n",
       "  background: hsla(210,11%,15%, 0.8);\n",
       "  border: none;\n",
       "}\n",
       "#foactivate-cc04e625-2dd8-415d-805c-139111f91a95:focus {\n",
       "  outline: none;\n",
       "}\n",
       "#fooverlay-cc04e625-2dd8-415d-805c-139111f91a95 {\n",
       "  width: 100%;\n",
       "  height: 100%;\n",
       "  background: hsla(208, 7%, 46%, 0.7);\n",
       "  position: absolute;\n",
       "  top: 0;\n",
       "  left: 0;\n",
       "  display: none;\n",
       "  cursor: pointer;\n",
       "}\n",
       "</style>\n",
       "\n",
       "<div id=\"focontainer-cc04e625-2dd8-415d-805c-139111f91a95\">\n",
       "   <div id=\"fooverlay-cc04e625-2dd8-415d-805c-139111f91a95\" style=\"display: none;\">\n",
       "      <button id=\"foactivate-cc04e625-2dd8-415d-805c-139111f91a95\" >Activate</button>\n",
       "   </div>\n",
       "   <img src='data:image/jpeg;base64,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' style=\"width: 100%; max-width: 1379px;\"/>\n",
       "</div>\n",
       "\n",
       "<script type=\"text/javascript\">\n",
       "   (function() {\n",
       "     var container = document.getElementById(\"focontainer-cc04e625-2dd8-415d-805c-139111f91a95\");\n",
       "     var overlay = document.getElementById(\"fooverlay-cc04e625-2dd8-415d-805c-139111f91a95\");\n",
       "     fetch(`http://0.0.0.0:5151/fiftyone`)\n",
       "     .then(() => {\n",
       "        overlay.addEventListener(\"click\", () => {\n",
       "          fetch(`http://0.0.0.0:5151/event`, {\n",
       "            method: \"POST\",\n",
       "            body: JSON.stringify({\n",
       "              event: \"reactivate_notebook_cell\",\n",
       "              data: { subscription: \"cc04e625-2dd8-415d-805c-139111f91a95\" },\n",
       "              subscription: \"cc04e625-2dd8-415d-805c-139111f91a95\"\n",
       "            })\n",
       "          })\n",
       "        });\n",
       "        container.addEventListener(\"mouseenter\", () => overlay.style.display = \"block\");\n",
       "        container.addEventListener(\"mouseleave\", () => overlay.style.display = \"none\");\n",
       "     });\n",
       "   })();\n",
       "</script>"
      ],
      "text/plain": [
       "<IPython.core.display.HTML object>"
      ]
     },
     "metadata": {},
     "output_type": "display_data"
    }
   ],
   "source": [
    "plot_full_frame = plot_img_embedding(full_viz_results, labels=\"full_frame\")\n",
    "fo.close_app()\n",
    "plot_full_frame.show()\n",
    "session = fo.launch_app(dataset, port=FIFTYONE_PORT)\n",
    "session.plots.attach(plot_full_frame)"
   ]
  },
  {
   "cell_type": "code",
   "execution_count": null,
   "id": "926c764e",
   "metadata": {},
   "outputs": [],
   "source": [
    "plot_full_frame = plot_img_embedding(full_viz_results, labels=\"full_frame\")\n",
    "fo.close_app()\n",
    "session = fo.launch_app(dataset, port=FIFTYONE_PORT)\n",
    "session.plots.attach(plot_full_frame)"
   ]
  },
  {
   "cell_type": "markdown",
   "id": "bf485fa4",
   "metadata": {},
   "source": [
    "## Compute Detection"
   ]
  },
  {
   "cell_type": "code",
   "execution_count": null,
   "id": "3fa686bb",
   "metadata": {},
   "outputs": [],
   "source": [
    "patches_viz_results = compute_visualization_detection(dataset, patches_embeddings)"
   ]
  },
  {
   "cell_type": "code",
   "execution_count": null,
   "id": "3cda228f",
   "metadata": {},
   "outputs": [],
   "source": [
    "plot_patches_embd = plot_img_embedding(patches_viz_results, labels=\"ground_truth.detections\")\n",
    "fo.close_app()\n",
    "plot_patches_emb.show()\n",
    "session = fo.launch_app(dataset, port=FIFTYONE_PORT)\n",
    "session.plots.attach(plot_patches_embd)"
   ]
  },
  {
   "cell_type": "markdown",
   "id": "30345cee",
   "metadata": {},
   "source": [
    "## Compute Uniqueness"
   ]
  },
  {
   "cell_type": "code",
   "execution_count": 16,
   "id": "2139e752",
   "metadata": {
    "tags": []
   },
   "outputs": [
    {
     "name": "stdout",
     "output_type": "stream",
     "text": [
      "Computing uniqueness...\n",
      "Uniqueness computation complete\n"
     ]
    }
   ],
   "source": [
    "dataset = compute_uniqueness(dataset, img_embeddings)"
   ]
  },
  {
   "cell_type": "code",
   "execution_count": 17,
   "id": "681e6e22",
   "metadata": {
    "tags": []
   },
   "outputs": [
    {
     "data": {
      "text/html": [
       "\n",
       "        <iframe\n",
       "            width=\"100%\"\n",
       "            height=\"800\"\n",
       "            src=\"http://0.0.0.0:5151/?notebook=True&subscription=229861f5-6521-4b42-9e17-c0febd233b70\"\n",
       "            frameborder=\"0\"\n",
       "            allowfullscreen\n",
       "            \n",
       "        ></iframe>\n",
       "        "
      ],
      "text/plain": [
       "<IPython.lib.display.IFrame at 0x7f086a8a26a0>"
      ]
     },
     "metadata": {},
     "output_type": "display_data"
    },
    {
     "name": "stdout",
     "output_type": "stream",
     "text": [
      "\n",
      "Could not connect session, trying again in 10 seconds\n",
      "\n",
      "\n",
      "Could not connect session, trying again in 10 seconds\n",
      "\n",
      "\n",
      "Could not connect session, trying again in 10 seconds\n",
      "\n",
      "\n",
      "Could not connect session, trying again in 10 seconds\n",
      "\n",
      "\n",
      "Could not connect session, trying again in 10 seconds\n",
      "\n",
      "\n",
      "Could not connect session, trying again in 10 seconds\n",
      "\n"
     ]
    }
   ],
   "source": [
    "fo.close_app()\n",
    "session = fo.launch_app(dataset, port=FIFTYONE_PORT)"
   ]
  },
  {
   "cell_type": "markdown",
   "id": "e2d392d3",
   "metadata": {},
   "source": [
    "## Compute Similarity"
   ]
  },
  {
   "cell_type": "code",
   "execution_count": null,
   "id": "74b091bf",
   "metadata": {},
   "outputs": [],
   "source": [
    "similarity_results = fob.compute_similarity(\n",
    "    dataset, model=\"resnext50-32x4d-imagenet-torch\", patches_field=\"ground_truth\", brain_key=\"gt_sim\"\n",
    ")"
   ]
  },
  {
   "cell_type": "code",
   "execution_count": null,
   "id": "da442d33",
   "metadata": {},
   "outputs": [],
   "source": [
    "fob.compute_similarity(\n",
    "    dataset, model=\"resnext50-32x4d-imagenet-torch\", brain_key=\"gt_sim_img\"\n",
    ")"
   ]
  },
  {
   "cell_type": "code",
   "execution_count": null,
   "id": "333bd142",
   "metadata": {},
   "outputs": [],
   "source": [
    "dataset.persistent = True"
   ]
  },
  {
   "cell_type": "code",
   "execution_count": null,
   "id": "fc40c2ce",
   "metadata": {},
   "outputs": [],
   "source": [
    "session.dataset = dataset\n",
    "session.show()"
   ]
  },
  {
   "cell_type": "code",
   "execution_count": null,
   "id": "488f47a7",
   "metadata": {},
   "outputs": [],
   "source": [
    "# evaluate\n",
    "results = dataset.evaluate_detections(\n",
    "    \"predictions\",\n",
    "    gt_field=\"ground_truth\",\n",
    "    eval_key=\"eval\",\n",
    ")\n",
    "\n",
    "# Print a classification report for the classes\n",
    "results.print_report()\n",
    "\n",
    "# Print some statistics about the total TP/FP/FN counts\n",
    "print(\"TP: %d\" % dataset.sum(\"eval_tp\"))\n",
    "print(\"FP: %d\" % dataset.sum(\"eval_fp\"))\n",
    "print(\"FN: %d\" % dataset.sum(\"eval_fn\"))"
   ]
  },
  {
   "cell_type": "markdown",
   "id": "a07f7114",
   "metadata": {},
   "source": [
    "## Split Dataset"
   ]
  },
  {
   "cell_type": "code",
   "execution_count": 18,
   "id": "cced6d3f",
   "metadata": {
    "tags": []
   },
   "outputs": [],
   "source": [
    "def train_test_split(dataset, percentage=0.25):\n",
    "    temp_dataset = dataset.clone()\n",
    "    test_size = int(len(dataset) * percentage)\n",
    "    test_samples = temp_dataset.take(test_size)\n",
    "    temp_dataset.delete_samples(test_samples)\n",
    "    test_dataset = test_samples.clone()\n",
    "    test_dataset.persistent = True\n",
    "    temp_dataset.persistent = True\n",
    "    return temp_dataset, test_dataset"
   ]
  },
  {
   "cell_type": "markdown",
   "id": "0a5ccb3f",
   "metadata": {},
   "source": [
    "## Split Main Dataset"
   ]
  },
  {
   "cell_type": "code",
   "execution_count": 34,
   "id": "20894cf1",
   "metadata": {
    "tags": []
   },
   "outputs": [],
   "source": [
    "unique_dataset_samples = dataset.match(F(\"uniqueness\") > 0.6)\n",
    "common_dataset_samples = dataset.match(F(\"uniqueness\") < 0.6)"
   ]
  },
  {
   "cell_type": "code",
   "execution_count": 35,
   "id": "3d487e64",
   "metadata": {
    "tags": []
   },
   "outputs": [
    {
     "data": {
      "text/plain": [
       "Dataset:     vehicle_dataset\n",
       "Media type:  image\n",
       "Num samples: 145\n",
       "Sample fields:\n",
       "    id:           fiftyone.core.fields.ObjectIdField\n",
       "    filepath:     fiftyone.core.fields.StringField\n",
       "    tags:         fiftyone.core.fields.ListField(fiftyone.core.fields.StringField)\n",
       "    metadata:     fiftyone.core.fields.EmbeddedDocumentField(fiftyone.core.metadata.ImageMetadata)\n",
       "    ground_truth: fiftyone.core.fields.EmbeddedDocumentField(fiftyone.core.labels.Detections)\n",
       "    full_frame:   fiftyone.core.fields.StringField\n",
       "    uniqueness:   fiftyone.core.fields.FloatField\n",
       "View stages:\n",
       "    1. Match(filter={'$expr': {'$gt': [...]}})"
      ]
     },
     "execution_count": 35,
     "metadata": {},
     "output_type": "execute_result"
    },
    {
     "name": "stdout",
     "output_type": "stream",
     "text": [
      "\n",
      "Could not connect session, trying again in 10 seconds\n",
      "\n"
     ]
    }
   ],
   "source": [
    "unique_dataset_samples"
   ]
  },
  {
   "cell_type": "code",
   "execution_count": 36,
   "id": "3873b255-0feb-4c25-beff-5cb53cf55a64",
   "metadata": {
    "tags": []
   },
   "outputs": [
    {
     "data": {
      "text/plain": [
       "Dataset:     vehicle_dataset\n",
       "Media type:  image\n",
       "Num samples: 9079\n",
       "Sample fields:\n",
       "    id:           fiftyone.core.fields.ObjectIdField\n",
       "    filepath:     fiftyone.core.fields.StringField\n",
       "    tags:         fiftyone.core.fields.ListField(fiftyone.core.fields.StringField)\n",
       "    metadata:     fiftyone.core.fields.EmbeddedDocumentField(fiftyone.core.metadata.ImageMetadata)\n",
       "    ground_truth: fiftyone.core.fields.EmbeddedDocumentField(fiftyone.core.labels.Detections)\n",
       "    full_frame:   fiftyone.core.fields.StringField\n",
       "    uniqueness:   fiftyone.core.fields.FloatField\n",
       "View stages:\n",
       "    1. Match(filter={'$expr': {'$lt': [...]}})"
      ]
     },
     "execution_count": 36,
     "metadata": {},
     "output_type": "execute_result"
    }
   ],
   "source": [
    "common_dataset_samples"
   ]
  },
  {
   "cell_type": "code",
   "execution_count": 37,
   "id": "e129c077-a59b-4c2e-ae10-7cdb25c70b51",
   "metadata": {
    "tags": []
   },
   "outputs": [
    {
     "name": "stdout",
     "output_type": "stream",
     "text": [
      "\n",
      "Could not connect session, trying again in 10 seconds\n",
      "\n"
     ]
    }
   ],
   "source": [
    "train_common, test_common = train_test_split(common_dataset_samples)"
   ]
  },
  {
   "cell_type": "code",
   "execution_count": 38,
   "id": "859149ba-0eb6-46a6-8390-90cd1ff9c47c",
   "metadata": {
    "tags": []
   },
   "outputs": [
    {
     "data": {
      "text/plain": [
       "(Name:        2023.06.26.03.50.43\n",
       " Media type:  image\n",
       " Num samples: 6810\n",
       " Persistent:  True\n",
       " Tags:        []\n",
       " Sample fields:\n",
       "     id:           fiftyone.core.fields.ObjectIdField\n",
       "     filepath:     fiftyone.core.fields.StringField\n",
       "     tags:         fiftyone.core.fields.ListField(fiftyone.core.fields.StringField)\n",
       "     metadata:     fiftyone.core.fields.EmbeddedDocumentField(fiftyone.core.metadata.ImageMetadata)\n",
       "     ground_truth: fiftyone.core.fields.EmbeddedDocumentField(fiftyone.core.labels.Detections)\n",
       "     full_frame:   fiftyone.core.fields.StringField\n",
       "     uniqueness:   fiftyone.core.fields.FloatField,\n",
       " Name:        2023.06.26.03.50.44\n",
       " Media type:  image\n",
       " Num samples: 2269\n",
       " Persistent:  True\n",
       " Tags:        []\n",
       " Sample fields:\n",
       "     id:           fiftyone.core.fields.ObjectIdField\n",
       "     filepath:     fiftyone.core.fields.StringField\n",
       "     tags:         fiftyone.core.fields.ListField(fiftyone.core.fields.StringField)\n",
       "     metadata:     fiftyone.core.fields.EmbeddedDocumentField(fiftyone.core.metadata.ImageMetadata)\n",
       "     ground_truth: fiftyone.core.fields.EmbeddedDocumentField(fiftyone.core.labels.Detections)\n",
       "     full_frame:   fiftyone.core.fields.StringField\n",
       "     uniqueness:   fiftyone.core.fields.FloatField)"
      ]
     },
     "execution_count": 38,
     "metadata": {},
     "output_type": "execute_result"
    },
    {
     "name": "stdout",
     "output_type": "stream",
     "text": [
      "\n",
      "Could not connect session, trying again in 10 seconds\n",
      "\n",
      "\n",
      "Could not connect session, trying again in 10 seconds\n",
      "\n",
      "\n",
      "Could not connect session, trying again in 10 seconds\n",
      "\n"
     ]
    }
   ],
   "source": [
    "train_common, test_common"
   ]
  },
  {
   "cell_type": "code",
   "execution_count": 39,
   "id": "9aaa1587-7795-40b3-91a4-16110ceb46ab",
   "metadata": {
    "tags": []
   },
   "outputs": [
    {
     "data": {
      "text/plain": [
       "(Name:        2023.06.26.03.51.11\n",
       " Media type:  image\n",
       " Num samples: 109\n",
       " Persistent:  True\n",
       " Tags:        []\n",
       " Sample fields:\n",
       "     id:           fiftyone.core.fields.ObjectIdField\n",
       "     filepath:     fiftyone.core.fields.StringField\n",
       "     tags:         fiftyone.core.fields.ListField(fiftyone.core.fields.StringField)\n",
       "     metadata:     fiftyone.core.fields.EmbeddedDocumentField(fiftyone.core.metadata.ImageMetadata)\n",
       "     ground_truth: fiftyone.core.fields.EmbeddedDocumentField(fiftyone.core.labels.Detections)\n",
       "     full_frame:   fiftyone.core.fields.StringField\n",
       "     uniqueness:   fiftyone.core.fields.FloatField,\n",
       " Name:        2023.06.26.03.51.11.364336\n",
       " Media type:  image\n",
       " Num samples: 36\n",
       " Persistent:  True\n",
       " Tags:        []\n",
       " Sample fields:\n",
       "     id:           fiftyone.core.fields.ObjectIdField\n",
       "     filepath:     fiftyone.core.fields.StringField\n",
       "     tags:         fiftyone.core.fields.ListField(fiftyone.core.fields.StringField)\n",
       "     metadata:     fiftyone.core.fields.EmbeddedDocumentField(fiftyone.core.metadata.ImageMetadata)\n",
       "     ground_truth: fiftyone.core.fields.EmbeddedDocumentField(fiftyone.core.labels.Detections)\n",
       "     full_frame:   fiftyone.core.fields.StringField\n",
       "     uniqueness:   fiftyone.core.fields.FloatField)"
      ]
     },
     "execution_count": 39,
     "metadata": {},
     "output_type": "execute_result"
    },
    {
     "name": "stdout",
     "output_type": "stream",
     "text": [
      "\n",
      "Could not connect session, trying again in 10 seconds\n",
      "\n"
     ]
    }
   ],
   "source": [
    "train_unique, test_unique = train_test_split(unique_dataset_samples)\n",
    "train_unique, test_unique"
   ]
  },
  {
   "cell_type": "code",
   "execution_count": 40,
   "id": "bc0a5a7f-bc3b-488a-adce-69fc99d712bd",
   "metadata": {
    "tags": []
   },
   "outputs": [],
   "source": [
    "train_common.merge_samples(train_unique)"
   ]
  },
  {
   "cell_type": "code",
   "execution_count": 41,
   "id": "10b18cb6-f9d3-4286-ab3d-db176277a8ed",
   "metadata": {
    "tags": []
   },
   "outputs": [
    {
     "data": {
      "text/plain": [
       "Name:        2023.06.26.03.50.43\n",
       "Media type:  image\n",
       "Num samples: 6919\n",
       "Persistent:  True\n",
       "Tags:        []\n",
       "Sample fields:\n",
       "    id:           fiftyone.core.fields.ObjectIdField\n",
       "    filepath:     fiftyone.core.fields.StringField\n",
       "    tags:         fiftyone.core.fields.ListField(fiftyone.core.fields.StringField)\n",
       "    metadata:     fiftyone.core.fields.EmbeddedDocumentField(fiftyone.core.metadata.ImageMetadata)\n",
       "    ground_truth: fiftyone.core.fields.EmbeddedDocumentField(fiftyone.core.labels.Detections)\n",
       "    full_frame:   fiftyone.core.fields.StringField\n",
       "    uniqueness:   fiftyone.core.fields.FloatField"
      ]
     },
     "execution_count": 41,
     "metadata": {},
     "output_type": "execute_result"
    },
    {
     "name": "stdout",
     "output_type": "stream",
     "text": [
      "\n",
      "Could not connect session, trying again in 10 seconds\n",
      "\n",
      "\n",
      "Could not connect session, trying again in 10 seconds\n",
      "\n",
      "\n",
      "Could not connect session, trying again in 10 seconds\n",
      "\n"
     ]
    }
   ],
   "source": [
    "train_common"
   ]
  },
  {
   "cell_type": "code",
   "execution_count": 42,
   "id": "aa889649-e730-40bc-a1e6-663f5cb4532a",
   "metadata": {
    "tags": []
   },
   "outputs": [
    {
     "name": "stdout",
     "output_type": "stream",
     "text": [
      "\n",
      "Could not connect session, trying again in 10 seconds\n",
      "\n",
      "\n",
      "Could not connect session, trying again in 10 seconds\n",
      "\n"
     ]
    }
   ],
   "source": [
    "test_common.merge_samples(test_unique)"
   ]
  },
  {
   "cell_type": "code",
   "execution_count": 43,
   "id": "8ce55ed0-055c-4829-9f18-69394f09a275",
   "metadata": {
    "tags": []
   },
   "outputs": [
    {
     "data": {
      "text/plain": [
       "Name:        2023.06.26.03.50.44\n",
       "Media type:  image\n",
       "Num samples: 2305\n",
       "Persistent:  True\n",
       "Tags:        []\n",
       "Sample fields:\n",
       "    id:           fiftyone.core.fields.ObjectIdField\n",
       "    filepath:     fiftyone.core.fields.StringField\n",
       "    tags:         fiftyone.core.fields.ListField(fiftyone.core.fields.StringField)\n",
       "    metadata:     fiftyone.core.fields.EmbeddedDocumentField(fiftyone.core.metadata.ImageMetadata)\n",
       "    ground_truth: fiftyone.core.fields.EmbeddedDocumentField(fiftyone.core.labels.Detections)\n",
       "    full_frame:   fiftyone.core.fields.StringField\n",
       "    uniqueness:   fiftyone.core.fields.FloatField"
      ]
     },
     "execution_count": 43,
     "metadata": {},
     "output_type": "execute_result"
    }
   ],
   "source": [
    "test_common"
   ]
  },
  {
   "cell_type": "markdown",
   "id": "01d71e43",
   "metadata": {},
   "source": [
    "## Export Dataset"
   ]
  },
  {
   "cell_type": "code",
   "execution_count": 44,
   "id": "e09f24b2-d07c-4903-989c-08ba2444dd86",
   "metadata": {
    "tags": []
   },
   "outputs": [
    {
     "name": "stdout",
     "output_type": "stream",
     "text": [
      "\n",
      "Could not connect session, trying again in 10 seconds\n",
      "\n"
     ]
    }
   ],
   "source": [
    "for sample in train_common:\n",
    "    sample.tags.append(\"train\")\n",
    "    sample.save()"
   ]
  },
  {
   "cell_type": "code",
   "execution_count": 45,
   "id": "e6b8243b-b369-44ec-88e6-43a5e4c28706",
   "metadata": {
    "tags": []
   },
   "outputs": [
    {
     "name": "stdout",
     "output_type": "stream",
     "text": [
      "\n",
      "Could not connect session, trying again in 10 seconds\n",
      "\n",
      "\n",
      "Could not connect session, trying again in 10 seconds\n",
      "\n",
      "\n",
      "Could not connect session, trying again in 10 seconds\n",
      "\n",
      "\n",
      "Could not connect session, trying again in 10 seconds\n",
      "\n",
      "\n",
      "Could not connect session, trying again in 10 seconds\n",
      "\n",
      "\n",
      "Could not connect session, trying again in 10 seconds\n",
      "\n",
      "\n",
      "Could not connect session, trying again in 10 seconds\n",
      "\n",
      "\n",
      "Could not connect session, trying again in 10 seconds\n",
      "\n",
      "\n",
      "Could not connect session, trying again in 10 seconds\n",
      "\n",
      "\n",
      "Could not connect session, trying again in 10 seconds\n",
      "\n",
      "\n",
      "Could not connect session, trying again in 10 seconds\n",
      "\n",
      "\n",
      "Could not connect session, trying again in 10 seconds\n",
      "\n",
      "\n",
      "Could not connect session, trying again in 10 seconds\n",
      "\n",
      "\n",
      "Could not connect session, trying again in 10 seconds\n",
      "\n",
      "\n",
      "Could not connect session, trying again in 10 seconds\n",
      "\n",
      "\n",
      "Could not connect session, trying again in 10 seconds\n",
      "\n"
     ]
    }
   ],
   "source": [
    "for sample in test_common:\n",
    "    sample.tags.append(\"val\")\n",
    "    sample.save()"
   ]
  },
  {
   "cell_type": "code",
   "execution_count": 46,
   "id": "5c692f13-4e4a-4b7d-adeb-f7459b89ada7",
   "metadata": {
    "tags": []
   },
   "outputs": [
    {
     "name": "stdout",
     "output_type": "stream",
     "text": [
      "\n",
      "Could not connect session, trying again in 10 seconds\n",
      "\n",
      "\n",
      "Could not connect session, trying again in 10 seconds\n",
      "\n",
      "\n",
      "Could not connect session, trying again in 10 seconds\n",
      "\n",
      "\n",
      "Could not connect session, trying again in 10 seconds\n",
      "\n"
     ]
    }
   ],
   "source": [
    "def merge_dataset(list_datasets: list, dataset_name: str):\n",
    "    merged_dataset = fo.Dataset(name=dataset_name, overwrite=True)\n",
    "    for dataset in list_datasets:\n",
    "#         print(dataset)\n",
    "        for sample in dataset:\n",
    "#             print(sample)\n",
    "            merged_dataset.add_sample(sample)\n",
    "    return merged_dataset"
   ]
  },
  {
   "cell_type": "code",
   "execution_count": 47,
   "id": "72033618-ac16-49c8-930a-f63db1e14182",
   "metadata": {
    "tags": []
   },
   "outputs": [
    {
     "name": "stdout",
     "output_type": "stream",
     "text": [
      "\n",
      "Could not connect session, trying again in 10 seconds\n",
      "\n",
      "\n",
      "Could not connect session, trying again in 10 seconds\n",
      "\n"
     ]
    },
    {
     "data": {
      "text/plain": [
       "Name:        vehicle_dataset_processed\n",
       "Media type:  image\n",
       "Num samples: 9224\n",
       "Persistent:  False\n",
       "Tags:        []\n",
       "Sample fields:\n",
       "    id:           fiftyone.core.fields.ObjectIdField\n",
       "    filepath:     fiftyone.core.fields.StringField\n",
       "    tags:         fiftyone.core.fields.ListField(fiftyone.core.fields.StringField)\n",
       "    metadata:     fiftyone.core.fields.EmbeddedDocumentField(fiftyone.core.metadata.ImageMetadata)\n",
       "    ground_truth: fiftyone.core.fields.EmbeddedDocumentField(fiftyone.core.labels.Detections)\n",
       "    full_frame:   fiftyone.core.fields.StringField\n",
       "    uniqueness:   fiftyone.core.fields.FloatField"
      ]
     },
     "execution_count": 47,
     "metadata": {},
     "output_type": "execute_result"
    },
    {
     "name": "stdout",
     "output_type": "stream",
     "text": [
      "\n",
      "Could not connect session, trying again in 10 seconds\n",
      "\n",
      "\n",
      "Could not connect session, trying again in 10 seconds\n",
      "\n",
      "\n",
      "Could not connect session, trying again in 10 seconds\n",
      "\n",
      "\n",
      "Could not connect session, trying again in 10 seconds\n",
      "\n",
      "\n",
      "Could not connect session, trying again in 10 seconds\n",
      "\n",
      "\n",
      "Could not connect session, trying again in 10 seconds\n",
      "\n",
      "\n",
      "Could not connect session, trying again in 10 seconds\n",
      "\n",
      "\n",
      "Could not connect session, trying again in 10 seconds\n",
      "\n"
     ]
    }
   ],
   "source": [
    "# merged dataset\n",
    "NEW_DATASET_NAME = \"vehicle_dataset_processed\"\n",
    "merged_dataset = merge_dataset([train_common, test_common], NEW_DATASET_NAME)\n",
    "merged_dataset"
   ]
  },
  {
   "cell_type": "code",
   "execution_count": 73,
   "id": "97b69a76-4e6e-4757-9e77-62488a4b5a62",
   "metadata": {
    "tags": []
   },
   "outputs": [],
   "source": [
    "class_mapping = {\n",
    "0 : \"MPV/SUV\",\n",
    "1 : \"Sedan\",\n",
    "2 : \"Van\",\n",
    "3 : \"Angkot\",\n",
    "4 : \"Taksi\",\n",
    "5 : \"Bajaj\",\n",
    "6 : \"Mobil Polisi\",\n",
    "7 : \"Mobil pick up box\",\n",
    "8 : \"Mobil pick up bermuatan\",\n",
    "9 : \"Mobil pick up kosong\",\n",
    "10 : \"Mini bus\",\n",
    "11 : \"Bus\",\n",
    "12 : \"Truk bermuatan\",\n",
    "13 : \"Truk tangki\",\n",
    "14 : \"Truk tak bermuatan\",\n",
    "15 : \"motorcycle\",\n",
    "16 : \"pedestrian\"}\n",
    "\n",
    "def rename_label(dataset, class_map):\n",
    "    for sample in dataset:\n",
    "        for detection in sample.ground_truth.detections:\n",
    "            try:\n",
    "                idx = int(detection.label)\n",
    "                detection.label = class_map[idx]\n",
    "            except:\n",
    "                continue\n",
    "        sample.save()\n",
    "    return dataset"
   ]
  },
  {
   "cell_type": "code",
   "execution_count": 74,
   "id": "ce29993d-d005-4b19-a8ce-12b4931e7536",
   "metadata": {
    "tags": []
   },
   "outputs": [],
   "source": [
    "merged_dataset = rename_label(merged_dataset, class_mapping)"
   ]
  },
  {
   "cell_type": "code",
   "execution_count": 78,
   "id": "6c21ae62-a5bc-49aa-95cc-b74ae5457e8f",
   "metadata": {
    "tags": []
   },
   "outputs": [],
   "source": [
    "merged_dataset.persistent = True"
   ]
  },
  {
   "cell_type": "code",
   "execution_count": 80,
   "id": "2ec01992-e18e-43ed-a191-e3ff63b3dda1",
   "metadata": {
    "tags": []
   },
   "outputs": [
    {
     "data": {
      "text/html": [
       "\n",
       "        <iframe\n",
       "            width=\"100%\"\n",
       "            height=\"800\"\n",
       "            src=\"http://0.0.0.0:5151/?notebook=True&subscription=9441610f-3dad-4ad4-96c0-ffa3b87e3718\"\n",
       "            frameborder=\"0\"\n",
       "            allowfullscreen\n",
       "            \n",
       "        ></iframe>\n",
       "        "
      ],
      "text/plain": [
       "<IPython.lib.display.IFrame at 0x7f06a691a2e0>"
      ]
     },
     "metadata": {},
     "output_type": "display_data"
    },
    {
     "ename": "RuntimeError",
     "evalue": "Failed to post event `state_update` to http://0.0.0.0:5151/event",
     "output_type": "error",
     "traceback": [
      "\u001b[0;31m---------------------------------------------------------------------------\u001b[0m",
      "\u001b[0;31mRuntimeError\u001b[0m                              Traceback (most recent call last)",
      "Cell \u001b[0;32mIn[80], line 2\u001b[0m\n\u001b[1;32m      1\u001b[0m fo\u001b[38;5;241m.\u001b[39mclose_app()\n\u001b[0;32m----> 2\u001b[0m session \u001b[38;5;241m=\u001b[39m \u001b[43mfo\u001b[49m\u001b[38;5;241;43m.\u001b[39;49m\u001b[43mlaunch_app\u001b[49m\u001b[43m(\u001b[49m\u001b[43mmerged_dataset\u001b[49m\u001b[43m,\u001b[49m\u001b[43m \u001b[49m\u001b[43mport\u001b[49m\u001b[38;5;241;43m=\u001b[39;49m\u001b[43mFIFTYONE_PORT\u001b[49m\u001b[43m)\u001b[49m\n\u001b[1;32m      3\u001b[0m \u001b[38;5;66;03m# session.plots.attach(plot_full_frame)\u001b[39;00m\n",
      "File \u001b[0;32m~/.local/lib/python3.8/site-packages/fiftyone/core/session/session.py:198\u001b[0m, in \u001b[0;36mlaunch_app\u001b[0;34m(dataset, view, spaces, color_scheme, plots, port, address, remote, desktop, height, auto, config)\u001b[0m\n\u001b[1;32m    186\u001b[0m \u001b[38;5;66;03m#\u001b[39;00m\n\u001b[1;32m    187\u001b[0m \u001b[38;5;66;03m# Note, we always `close_app()` here rather than just calling\u001b[39;00m\n\u001b[1;32m    188\u001b[0m \u001b[38;5;66;03m# `session.open()` if a session already exists, because the app may have\u001b[39;00m\n\u001b[0;32m   (...)\u001b[0m\n\u001b[1;32m    194\u001b[0m \u001b[38;5;66;03m# @todo this can probably be improved\u001b[39;00m\n\u001b[1;32m    195\u001b[0m \u001b[38;5;66;03m#\u001b[39;00m\n\u001b[1;32m    196\u001b[0m close_app()\n\u001b[0;32m--> 198\u001b[0m _session \u001b[38;5;241m=\u001b[39m \u001b[43mSession\u001b[49m\u001b[43m(\u001b[49m\n\u001b[1;32m    199\u001b[0m \u001b[43m    \u001b[49m\u001b[43mdataset\u001b[49m\u001b[38;5;241;43m=\u001b[39;49m\u001b[43mdataset\u001b[49m\u001b[43m,\u001b[49m\n\u001b[1;32m    200\u001b[0m \u001b[43m    \u001b[49m\u001b[43mview\u001b[49m\u001b[38;5;241;43m=\u001b[39;49m\u001b[43mview\u001b[49m\u001b[43m,\u001b[49m\n\u001b[1;32m    201\u001b[0m \u001b[43m    \u001b[49m\u001b[43mspaces\u001b[49m\u001b[38;5;241;43m=\u001b[39;49m\u001b[43mspaces\u001b[49m\u001b[43m,\u001b[49m\n\u001b[1;32m    202\u001b[0m \u001b[43m    \u001b[49m\u001b[43mcolor_scheme\u001b[49m\u001b[38;5;241;43m=\u001b[39;49m\u001b[43mcolor_scheme\u001b[49m\u001b[43m,\u001b[49m\n\u001b[1;32m    203\u001b[0m \u001b[43m    \u001b[49m\u001b[43mplots\u001b[49m\u001b[38;5;241;43m=\u001b[39;49m\u001b[43mplots\u001b[49m\u001b[43m,\u001b[49m\n\u001b[1;32m    204\u001b[0m \u001b[43m    \u001b[49m\u001b[43mport\u001b[49m\u001b[38;5;241;43m=\u001b[39;49m\u001b[43mport\u001b[49m\u001b[43m,\u001b[49m\n\u001b[1;32m    205\u001b[0m \u001b[43m    \u001b[49m\u001b[43maddress\u001b[49m\u001b[38;5;241;43m=\u001b[39;49m\u001b[43maddress\u001b[49m\u001b[43m,\u001b[49m\n\u001b[1;32m    206\u001b[0m \u001b[43m    \u001b[49m\u001b[43mremote\u001b[49m\u001b[38;5;241;43m=\u001b[39;49m\u001b[43mremote\u001b[49m\u001b[43m,\u001b[49m\n\u001b[1;32m    207\u001b[0m \u001b[43m    \u001b[49m\u001b[43mdesktop\u001b[49m\u001b[38;5;241;43m=\u001b[39;49m\u001b[43mdesktop\u001b[49m\u001b[43m,\u001b[49m\n\u001b[1;32m    208\u001b[0m \u001b[43m    \u001b[49m\u001b[43mheight\u001b[49m\u001b[38;5;241;43m=\u001b[39;49m\u001b[43mheight\u001b[49m\u001b[43m,\u001b[49m\n\u001b[1;32m    209\u001b[0m \u001b[43m    \u001b[49m\u001b[43mauto\u001b[49m\u001b[38;5;241;43m=\u001b[39;49m\u001b[43mauto\u001b[49m\u001b[43m,\u001b[49m\n\u001b[1;32m    210\u001b[0m \u001b[43m    \u001b[49m\u001b[43mconfig\u001b[49m\u001b[38;5;241;43m=\u001b[39;49m\u001b[43mconfig\u001b[49m\u001b[43m,\u001b[49m\n\u001b[1;32m    211\u001b[0m \u001b[43m\u001b[49m\u001b[43m)\u001b[49m\n\u001b[1;32m    213\u001b[0m \u001b[38;5;28;01mif\u001b[39;00m _session\u001b[38;5;241m.\u001b[39mremote:\n\u001b[1;32m    214\u001b[0m     logger\u001b[38;5;241m.\u001b[39minfo(_REMOTE_INSTRUCTIONS\u001b[38;5;241m.\u001b[39mstrip()\u001b[38;5;241m.\u001b[39mformat(_session\u001b[38;5;241m.\u001b[39mserver_port))\n",
      "File \u001b[0;32m~/.local/lib/python3.8/site-packages/fiftyone/core/session/session.py:431\u001b[0m, in \u001b[0;36mSession.__init__\u001b[0;34m(self, dataset, view, view_name, spaces, color_scheme, plots, port, address, remote, desktop, height, auto, config)\u001b[0m\n\u001b[1;32m    428\u001b[0m _register_session(\u001b[38;5;28mself\u001b[39m)\n\u001b[1;32m    430\u001b[0m \u001b[38;5;28;01mif\u001b[39;00m \u001b[38;5;28mself\u001b[39m\u001b[38;5;241m.\u001b[39mauto \u001b[38;5;129;01mand\u001b[39;00m focx\u001b[38;5;241m.\u001b[39mis_notebook_context():\n\u001b[0;32m--> 431\u001b[0m     \u001b[38;5;28;43mself\u001b[39;49m\u001b[38;5;241;43m.\u001b[39;49m\u001b[43mshow\u001b[49m\u001b[43m(\u001b[49m\u001b[43mheight\u001b[49m\u001b[38;5;241;43m=\u001b[39;49m\u001b[43mconfig\u001b[49m\u001b[38;5;241;43m.\u001b[39;49m\u001b[43mnotebook_height\u001b[49m\u001b[43m)\u001b[49m\n\u001b[1;32m    433\u001b[0m \u001b[38;5;28;01mif\u001b[39;00m \u001b[38;5;28mself\u001b[39m\u001b[38;5;241m.\u001b[39mremote:\n\u001b[1;32m    434\u001b[0m     \u001b[38;5;28;01mif\u001b[39;00m focx\u001b[38;5;241m.\u001b[39mis_notebook_context():\n",
      "File \u001b[0;32m~/.local/lib/python3.8/site-packages/fiftyone/core/session/session.py:258\u001b[0m, in \u001b[0;36mupdate_state.<locals>.decorator.<locals>.wrapper\u001b[0;34m(session, *args, **kwargs)\u001b[0m\n\u001b[1;32m    256\u001b[0m     session\u001b[38;5;241m.\u001b[39mfreeze()\n\u001b[1;32m    257\u001b[0m result \u001b[38;5;241m=\u001b[39m func(session, \u001b[38;5;241m*\u001b[39margs, \u001b[38;5;241m*\u001b[39m\u001b[38;5;241m*\u001b[39mkwargs)\n\u001b[0;32m--> 258\u001b[0m \u001b[43msession\u001b[49m\u001b[38;5;241;43m.\u001b[39;49m\u001b[43m_client\u001b[49m\u001b[38;5;241;43m.\u001b[39;49m\u001b[43msend_event\u001b[49m\u001b[43m(\u001b[49m\u001b[43mStateUpdate\u001b[49m\u001b[43m(\u001b[49m\u001b[43mstate\u001b[49m\u001b[38;5;241;43m=\u001b[39;49m\u001b[43msession\u001b[49m\u001b[38;5;241;43m.\u001b[39;49m\u001b[43m_state\u001b[49m\u001b[43m)\u001b[49m\u001b[43m)\u001b[49m\n\u001b[1;32m    259\u001b[0m \u001b[38;5;28;01mif\u001b[39;00m auto_show \u001b[38;5;129;01mand\u001b[39;00m session\u001b[38;5;241m.\u001b[39mauto \u001b[38;5;129;01mand\u001b[39;00m focx\u001b[38;5;241m.\u001b[39mis_notebook_context():\n\u001b[1;32m    260\u001b[0m     session\u001b[38;5;241m.\u001b[39mshow()\n",
      "File \u001b[0;32m~/.local/lib/python3.8/site-packages/fiftyone/core/session/client.py:126\u001b[0m, in \u001b[0;36mClient.send_event\u001b[0;34m(self, event)\u001b[0m\n\u001b[1;32m    124\u001b[0m \u001b[38;5;28;01mif\u001b[39;00m \u001b[38;5;129;01mnot\u001b[39;00m \u001b[38;5;28mself\u001b[39m\u001b[38;5;241m.\u001b[39m_connected:\n\u001b[1;32m    125\u001b[0m     \u001b[38;5;28;01mraise\u001b[39;00m \u001b[38;5;167;01mRuntimeError\u001b[39;00m(\u001b[38;5;124m\"\u001b[39m\u001b[38;5;124mClient is not connected\u001b[39m\u001b[38;5;124m\"\u001b[39m)\n\u001b[0;32m--> 126\u001b[0m \u001b[38;5;28;43mself\u001b[39;49m\u001b[38;5;241;43m.\u001b[39;49m\u001b[43m_post_event\u001b[49m\u001b[43m(\u001b[49m\u001b[43mevent\u001b[49m\u001b[43m)\u001b[49m\n\u001b[1;32m    127\u001b[0m \u001b[38;5;28mself\u001b[39m\u001b[38;5;241m.\u001b[39m_dispatch_event(event)\n",
      "File \u001b[0;32m~/.local/lib/python3.8/site-packages/fiftyone/core/session/client.py:172\u001b[0m, in \u001b[0;36mClient._post_event\u001b[0;34m(self, event)\u001b[0m\n\u001b[1;32m    159\u001b[0m response \u001b[38;5;241m=\u001b[39m requests\u001b[38;5;241m.\u001b[39mpost(\n\u001b[1;32m    160\u001b[0m     \u001b[38;5;124mf\u001b[39m\u001b[38;5;124m\"\u001b[39m\u001b[38;5;132;01m{\u001b[39;00m\u001b[38;5;28mself\u001b[39m\u001b[38;5;241m.\u001b[39morigin\u001b[38;5;132;01m}\u001b[39;00m\u001b[38;5;124m/event\u001b[39m\u001b[38;5;124m\"\u001b[39m,\n\u001b[1;32m    161\u001b[0m     headers\u001b[38;5;241m=\u001b[39m{\u001b[38;5;124m\"\u001b[39m\u001b[38;5;124mContent-type\u001b[39m\u001b[38;5;124m\"\u001b[39m: \u001b[38;5;124m\"\u001b[39m\u001b[38;5;124mapplication/json\u001b[39m\u001b[38;5;124m\"\u001b[39m},\n\u001b[0;32m   (...)\u001b[0m\n\u001b[1;32m    168\u001b[0m     ),\n\u001b[1;32m    169\u001b[0m )\n\u001b[1;32m    171\u001b[0m \u001b[38;5;28;01mif\u001b[39;00m response\u001b[38;5;241m.\u001b[39mstatus_code \u001b[38;5;241m!=\u001b[39m \u001b[38;5;241m200\u001b[39m:\n\u001b[0;32m--> 172\u001b[0m     \u001b[38;5;28;01mraise\u001b[39;00m \u001b[38;5;167;01mRuntimeError\u001b[39;00m(\n\u001b[1;32m    173\u001b[0m         \u001b[38;5;124mf\u001b[39m\u001b[38;5;124m\"\u001b[39m\u001b[38;5;124mFailed to post event `\u001b[39m\u001b[38;5;132;01m{\u001b[39;00mevent\u001b[38;5;241m.\u001b[39mget_event_name()\u001b[38;5;132;01m}\u001b[39;00m\u001b[38;5;124m` to \u001b[39m\u001b[38;5;132;01m{\u001b[39;00m\u001b[38;5;28mself\u001b[39m\u001b[38;5;241m.\u001b[39morigin\u001b[38;5;132;01m}\u001b[39;00m\u001b[38;5;124m/event\u001b[39m\u001b[38;5;124m\"\u001b[39m\n\u001b[1;32m    174\u001b[0m     )\n",
      "\u001b[0;31mRuntimeError\u001b[0m: Failed to post event `state_update` to http://0.0.0.0:5151/event"
     ]
    }
   ],
   "source": [
    "fo.close_app()\n",
    "session = fo.launch_app(merged_dataset, port=FIFTYONE_PORT)\n",
    "# session.plots.attach(plot_full_frame)"
   ]
  },
  {
   "cell_type": "code",
   "execution_count": 82,
   "id": "c33dd53c-a535-49a9-a46b-270d540560e2",
   "metadata": {
    "tags": []
   },
   "outputs": [],
   "source": [
    "class_list = [\n",
    " \"MPV/SUV\",\n",
    " \"Sedan\",\n",
    " \"Van\",\n",
    " \"Angkot\",\n",
    " \"Taksi\",\n",
    " \"Bajaj\",\n",
    " \"Mobil Polisi\",\n",
    " \"Mobil pick up box\",\n",
    " \"Mobil pick up bermuatan\",\n",
    " \"Mobil pick up kosong\",\n",
    " \"Mini bus\",\n",
    " \"Bus\",\n",
    " \"Truk bermuatan\",\n",
    " \"Truk tangki\",\n",
    " \"Truk tak bermuatan\",\n",
    " \"motorcycle\",\n",
    " \"pedestrian\"]"
   ]
  },
  {
   "cell_type": "code",
   "execution_count": 85,
   "id": "f0fc77f6-1265-46f5-a3c2-78b117f7144e",
   "metadata": {
    "tags": []
   },
   "outputs": [],
   "source": [
    "!rm -rf vehicle_dataset_new"
   ]
  },
  {
   "cell_type": "code",
   "execution_count": 86,
   "id": "afedeab3-c13d-46a8-a70d-24e0a192de37",
   "metadata": {
    "tags": []
   },
   "outputs": [
    {
     "name": "stdout",
     "output_type": "stream",
     "text": [
      "Directory 'vehicle_dataset_new' already exists; export will be merged with existing files\n"
     ]
    }
   ],
   "source": [
    "splits = [\"train\", \"val\"]\n",
    "export_dir = \"vehicle_dataset_new\"\n",
    "label_field = \"ground_truth\"\n",
    "\n",
    "# Export the splits\n",
    "for split in splits:\n",
    "    split_view = merged_dataset.match_tags(split)\n",
    "    split_view.export(\n",
    "        export_dir=export_dir,\n",
    "        dataset_type=fo.types.YOLOv5Dataset,\n",
    "        label_field=label_field,\n",
    "        split=split,\n",
    "        classes=class_list\n",
    "    )"
   ]
  },
  {
   "cell_type": "markdown",
   "id": "fc2f5f29-7f79-4142-b280-5ec5f74b2e6d",
   "metadata": {
    "tags": []
   },
   "source": [
    "## Check New Distribution"
   ]
  },
  {
   "cell_type": "code",
   "execution_count": 88,
   "id": "276b99c3-d4b7-43e9-a572-a02502844b93",
   "metadata": {
    "tags": []
   },
   "outputs": [],
   "source": [
    "merged_dataset.persistent = True"
   ]
  },
  {
   "cell_type": "code",
   "execution_count": 87,
   "id": "9c5a494b-d213-473e-93a5-fb8fae2dd9ec",
   "metadata": {
    "tags": []
   },
   "outputs": [
    {
     "name": "stderr",
     "output_type": "stream",
     "text": [
      "\n",
      "KeyboardInterrupt\n",
      "\n"
     ]
    }
   ],
   "source": [
    "new_img_embeddings = merged_dataset.compute_embeddings(model)"
   ]
  },
  {
   "cell_type": "code",
   "execution_count": null,
   "id": "3243062b-16a3-4797-9e53-c3c6e2c788da",
   "metadata": {
    "tags": []
   },
   "outputs": [],
   "source": [
    "full_viz_results = compute_visualization_classification(merged_dataset, new_img_embeddings, brain_key=\"img_embeddings\")"
   ]
  },
  {
   "cell_type": "code",
   "execution_count": null,
   "id": "e34c6a07-801f-40d1-8270-811e548e30a0",
   "metadata": {
    "tags": []
   },
   "outputs": [],
   "source": [
    "plot_full_frame = plot_img_embedding(full_viz_results, labels=\"tags\")\n",
    "fo.close_app()\n",
    "plot_full_frame.show()\n",
    "session = fo.launch_app(merged_dataset, port=FIFTYONE_PORT)\n",
    "session.plots.attach(plot_full_frame)"
   ]
  },
  {
   "cell_type": "code",
   "execution_count": null,
   "id": "a2339768-f7cd-4f99-8df6-fb4379324af7",
   "metadata": {},
   "outputs": [],
   "source": []
  }
 ],
 "metadata": {
  "kernelspec": {
   "display_name": "Python 3 (ipykernel)",
   "language": "python",
   "name": "python3"
  },
  "language_info": {
   "codemirror_mode": {
    "name": "ipython",
    "version": 3
   },
   "file_extension": ".py",
   "mimetype": "text/x-python",
   "name": "python",
   "nbconvert_exporter": "python",
   "pygments_lexer": "ipython3",
   "version": "3.8.10"
  }
 },
 "nbformat": 4,
 "nbformat_minor": 5
}
